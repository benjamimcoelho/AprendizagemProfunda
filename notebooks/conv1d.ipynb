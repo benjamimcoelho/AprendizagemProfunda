{
 "cells": [
  {
   "cell_type": "markdown",
   "id": "1741bb3c-9133-4d65-bb75-8107e9fbb3fe",
   "metadata": {},
   "source": [
    "# Importar dados"
   ]
  },
  {
   "cell_type": "code",
   "execution_count": 1,
   "id": "4f45c8be-a171-42f7-b6c0-49319595370e",
   "metadata": {},
   "outputs": [],
   "source": [
    "import pandas as pd\n",
    "train_data = pd.read_csv(r'../data/train.csv')\n",
    "test_data = pd.read_csv(r'../data/test.csv')"
   ]
  },
  {
   "cell_type": "code",
   "execution_count": 2,
   "id": "b7f0095e-78a2-4bd0-a36d-462692e574df",
   "metadata": {},
   "outputs": [
    {
     "data": {
      "text/plain": [
       "(112, 4)"
      ]
     },
     "execution_count": 2,
     "metadata": {},
     "output_type": "execute_result"
    }
   ],
   "source": [
    "train_data.shape"
   ]
  },
  {
   "cell_type": "markdown",
   "id": "f4d833f0-05a9-4703-862c-b663445cb376",
   "metadata": {},
   "source": [
    "# Analisar Dados"
   ]
  },
  {
   "cell_type": "code",
   "execution_count": 3,
   "id": "07acdc93-caad-43a3-81a7-ed24e8392b57",
   "metadata": {},
   "outputs": [
    {
     "name": "stdout",
     "output_type": "stream",
     "text": [
      "<class 'pandas.core.frame.DataFrame'>\n",
      "RangeIndex: 112 entries, 0 to 111\n",
      "Data columns (total 4 columns):\n",
      " #   Column     Non-Null Count  Dtype\n",
      "---  ------     --------------  -----\n",
      " 0   id         112 non-null    int64\n",
      " 1   age        112 non-null    int64\n",
      " 2   sex        112 non-null    int64\n",
      " 3   education  112 non-null    int64\n",
      "dtypes: int64(4)\n",
      "memory usage: 3.6 KB\n"
     ]
    }
   ],
   "source": [
    "train_data.info()"
   ]
  },
  {
   "cell_type": "code",
   "execution_count": 4,
   "id": "085a4497-e3e0-4e69-8001-363ca3184288",
   "metadata": {},
   "outputs": [
    {
     "data": {
      "text/html": [
       "<div>\n",
       "<style scoped>\n",
       "    .dataframe tbody tr th:only-of-type {\n",
       "        vertical-align: middle;\n",
       "    }\n",
       "\n",
       "    .dataframe tbody tr th {\n",
       "        vertical-align: top;\n",
       "    }\n",
       "\n",
       "    .dataframe thead th {\n",
       "        text-align: right;\n",
       "    }\n",
       "</style>\n",
       "<table border=\"1\" class=\"dataframe\">\n",
       "  <thead>\n",
       "    <tr style=\"text-align: right;\">\n",
       "      <th></th>\n",
       "      <th>id</th>\n",
       "      <th>age</th>\n",
       "      <th>sex</th>\n",
       "      <th>education</th>\n",
       "    </tr>\n",
       "  </thead>\n",
       "  <tbody>\n",
       "    <tr>\n",
       "      <th>count</th>\n",
       "      <td>112.000000</td>\n",
       "      <td>112.000000</td>\n",
       "      <td>112.000000</td>\n",
       "      <td>112.000000</td>\n",
       "    </tr>\n",
       "    <tr>\n",
       "      <th>mean</th>\n",
       "      <td>56.500000</td>\n",
       "      <td>44.312500</td>\n",
       "      <td>0.482143</td>\n",
       "      <td>9.035714</td>\n",
       "    </tr>\n",
       "    <tr>\n",
       "      <th>std</th>\n",
       "      <td>32.475632</td>\n",
       "      <td>22.642156</td>\n",
       "      <td>0.501927</td>\n",
       "      <td>4.909870</td>\n",
       "    </tr>\n",
       "    <tr>\n",
       "      <th>min</th>\n",
       "      <td>1.000000</td>\n",
       "      <td>13.000000</td>\n",
       "      <td>0.000000</td>\n",
       "      <td>0.000000</td>\n",
       "    </tr>\n",
       "    <tr>\n",
       "      <th>25%</th>\n",
       "      <td>28.750000</td>\n",
       "      <td>20.000000</td>\n",
       "      <td>0.000000</td>\n",
       "      <td>4.000000</td>\n",
       "    </tr>\n",
       "    <tr>\n",
       "      <th>50%</th>\n",
       "      <td>56.500000</td>\n",
       "      <td>51.500000</td>\n",
       "      <td>0.000000</td>\n",
       "      <td>9.000000</td>\n",
       "    </tr>\n",
       "    <tr>\n",
       "      <th>75%</th>\n",
       "      <td>84.250000</td>\n",
       "      <td>65.250000</td>\n",
       "      <td>1.000000</td>\n",
       "      <td>12.000000</td>\n",
       "    </tr>\n",
       "    <tr>\n",
       "      <th>max</th>\n",
       "      <td>112.000000</td>\n",
       "      <td>79.000000</td>\n",
       "      <td>1.000000</td>\n",
       "      <td>20.000000</td>\n",
       "    </tr>\n",
       "  </tbody>\n",
       "</table>\n",
       "</div>"
      ],
      "text/plain": [
       "               id         age         sex   education\n",
       "count  112.000000  112.000000  112.000000  112.000000\n",
       "mean    56.500000   44.312500    0.482143    9.035714\n",
       "std     32.475632   22.642156    0.501927    4.909870\n",
       "min      1.000000   13.000000    0.000000    0.000000\n",
       "25%     28.750000   20.000000    0.000000    4.000000\n",
       "50%     56.500000   51.500000    0.000000    9.000000\n",
       "75%     84.250000   65.250000    1.000000   12.000000\n",
       "max    112.000000   79.000000    1.000000   20.000000"
      ]
     },
     "execution_count": 4,
     "metadata": {},
     "output_type": "execute_result"
    }
   ],
   "source": [
    "train_data.describe()"
   ]
  },
  {
   "cell_type": "code",
   "execution_count": 5,
   "id": "f411a61d-9d5d-4b3f-9a76-4b7ccf3c40f6",
   "metadata": {},
   "outputs": [
    {
     "data": {
      "text/html": [
       "<div>\n",
       "<style scoped>\n",
       "    .dataframe tbody tr th:only-of-type {\n",
       "        vertical-align: middle;\n",
       "    }\n",
       "\n",
       "    .dataframe tbody tr th {\n",
       "        vertical-align: top;\n",
       "    }\n",
       "\n",
       "    .dataframe thead th {\n",
       "        text-align: right;\n",
       "    }\n",
       "</style>\n",
       "<table border=\"1\" class=\"dataframe\">\n",
       "  <thead>\n",
       "    <tr style=\"text-align: right;\">\n",
       "      <th></th>\n",
       "      <th>id</th>\n",
       "      <th>age</th>\n",
       "      <th>sex</th>\n",
       "      <th>education</th>\n",
       "    </tr>\n",
       "  </thead>\n",
       "  <tbody>\n",
       "    <tr>\n",
       "      <th>0</th>\n",
       "      <td>1</td>\n",
       "      <td>13</td>\n",
       "      <td>1</td>\n",
       "      <td>7</td>\n",
       "    </tr>\n",
       "    <tr>\n",
       "      <th>1</th>\n",
       "      <td>2</td>\n",
       "      <td>14</td>\n",
       "      <td>0</td>\n",
       "      <td>8</td>\n",
       "    </tr>\n",
       "    <tr>\n",
       "      <th>2</th>\n",
       "      <td>3</td>\n",
       "      <td>15</td>\n",
       "      <td>1</td>\n",
       "      <td>9</td>\n",
       "    </tr>\n",
       "    <tr>\n",
       "      <th>3</th>\n",
       "      <td>4</td>\n",
       "      <td>15</td>\n",
       "      <td>1</td>\n",
       "      <td>9</td>\n",
       "    </tr>\n",
       "    <tr>\n",
       "      <th>4</th>\n",
       "      <td>5</td>\n",
       "      <td>15</td>\n",
       "      <td>1</td>\n",
       "      <td>9</td>\n",
       "    </tr>\n",
       "  </tbody>\n",
       "</table>\n",
       "</div>"
      ],
      "text/plain": [
       "   id  age  sex  education\n",
       "0   1   13    1          7\n",
       "1   2   14    0          8\n",
       "2   3   15    1          9\n",
       "3   4   15    1          9\n",
       "4   5   15    1          9"
      ]
     },
     "execution_count": 5,
     "metadata": {},
     "output_type": "execute_result"
    }
   ],
   "source": [
    "#fig = plt.figure(figsize = (20,5))\n",
    "#ax = fig.gca()\n",
    "#train_data['education'].hist(ax = ax)\n",
    "train_data.head()"
   ]
  },
  {
   "cell_type": "code",
   "execution_count": 6,
   "id": "ec6bb549-95aa-4e2c-a78a-e8a0fb931597",
   "metadata": {},
   "outputs": [
    {
     "data": {
      "image/png": "[encoded data removed]",
      "text/plain": [
       "<Figure size 432x288 with 1 Axes>"
      ]
     },
     "metadata": {
      "needs_background": "light"
     },
     "output_type": "display_data"
    }
   ],
   "source": [
    "#train_data.isna().any()\n",
    "\n",
    "import seaborn as sns\n",
    "#sns.histplot(train_data['age'], kde='True')\n",
    "#sns.histplot(train_data['sex'], kde='True')\n",
    "sns.histplot(train_data['education'], kde='True')\n",
    "\n",
    "#sns.boxplot(x=train_data['age'])\n",
    "#sns.boxplot(x=train_data['sex'])\n",
    "#sns.boxplot(x=train_data['education'])\n",
    "\n",
    "import matplotlib.pyplot as plt\n",
    "#corr_matrix = train_data.corr()\n",
    "#f, ax = plt.subplots(figsize=(8,6))\n",
    "#sns.heatmap(corr_matrix, vmin=1, vmax=1, square=True, annot=True)"
   ]
  },
  {
   "cell_type": "markdown",
   "id": "7885757b-8978-49ce-9441-1a8ac636540f",
   "metadata": {
    "tags": []
   },
   "source": [
    "# Visualisar os dados"
   ]
  },
  {
   "cell_type": "code",
   "execution_count": 7,
   "id": "bc6a9c00-fcce-4671-ac71-2f2231514864",
   "metadata": {},
   "outputs": [
    {
     "name": "stdout",
     "output_type": "stream",
     "text": [
      "[[[0.         0.         0.         ... 0.         0.         0.        ]\n",
      "  [0.         0.         0.         ... 0.         0.         0.        ]\n",
      "  [0.13152513 0.11770353 0.15580596 ... 0.11608478 0.15665442 0.11458643]\n",
      "  ...\n",
      "  [0.         0.         0.         ... 0.         0.         0.        ]\n",
      "  [0.         0.         0.         ... 0.02631835 0.01242944 0.        ]\n",
      "  [0.         0.         0.         ... 0.         0.         0.        ]]\n",
      "\n",
      " [[0.         0.         0.         ... 0.         0.         0.        ]\n",
      "  [0.         0.         0.         ... 0.         0.         0.        ]\n",
      "  [0.         0.         0.         ... 0.         0.         0.        ]\n",
      "  ...\n",
      "  [0.         0.         0.         ... 0.         0.         0.        ]\n",
      "  [0.         0.         0.         ... 0.         0.         0.        ]\n",
      "  [0.         0.         0.         ... 0.01770987 0.         0.        ]]\n",
      "\n",
      " [[0.13152513 0.11770353 0.15580596 ... 0.11608478 0.15665442 0.11458643]\n",
      "  [0.         0.         0.         ... 0.         0.         0.        ]\n",
      "  [0.         0.         0.         ... 0.         0.         0.        ]\n",
      "  ...\n",
      "  [0.         0.         0.         ... 0.         0.         0.        ]\n",
      "  [0.         0.         0.         ... 0.         0.         0.        ]\n",
      "  [0.         0.         0.         ... 0.         0.         0.        ]]\n",
      "\n",
      " ...\n",
      "\n",
      " [[0.         0.         0.         ... 0.         0.         0.        ]\n",
      "  [0.         0.         0.         ... 0.         0.         0.        ]\n",
      "  [0.         0.         0.         ... 0.         0.         0.        ]\n",
      "  ...\n",
      "  [0.         0.         0.         ... 0.         0.         0.        ]\n",
      "  [0.         0.         0.         ... 0.         0.         0.        ]\n",
      "  [0.28060623 0.20747819 0.24647168 ... 0.24678357 0.2162594  0.27481224]]\n",
      "\n",
      " [[0.         0.         0.         ... 0.02631835 0.01242944 0.        ]\n",
      "  [0.         0.         0.         ... 0.         0.         0.        ]\n",
      "  [0.         0.         0.         ... 0.         0.         0.        ]\n",
      "  ...\n",
      "  [0.         0.         0.         ... 0.         0.         0.        ]\n",
      "  [0.         0.         0.         ... 0.         0.         0.        ]\n",
      "  [0.         0.         0.         ... 0.         0.         0.        ]]\n",
      "\n",
      " [[0.         0.         0.         ... 0.         0.         0.        ]\n",
      "  [0.         0.         0.         ... 0.01770987 0.         0.        ]\n",
      "  [0.         0.         0.         ... 0.         0.         0.        ]\n",
      "  ...\n",
      "  [0.28060623 0.20747819 0.24647168 ... 0.24678357 0.2162594  0.27481224]\n",
      "  [0.         0.         0.         ... 0.         0.         0.        ]\n",
      "  [0.         0.         0.         ... 0.         0.         0.        ]]]\n"
     ]
    }
   ],
   "source": [
    "import numpy as np\n",
    "import scipy.io\n",
    "\n",
    "mat = scipy.io.loadmat('../data/train_data.mat')\n",
    "\n",
    "X = mat[\"train_data\"]\n",
    "print(X)"
   ]
  },
  {
   "cell_type": "code",
   "execution_count": 8,
   "id": "f119268f-9221-4f73-b884-47ce29c55111",
   "metadata": {},
   "outputs": [
    {
     "data": {
      "image/png": "[encoded data removed]",
      "text/plain": [
       "<Figure size 432x288 with 1 Axes>"
      ]
     },
     "metadata": {
      "needs_background": "light"
     },
     "output_type": "display_data"
    }
   ],
   "source": [
    "#todos\n",
    "import matplotlib.pyplot as plt\n",
    "from mpl_toolkits.mplot3d import Axes3D\n",
    "fig = plt.figure()\n",
    "ax = fig.add_subplot(111, projection='3d')\n",
    "\n",
    "z,x,y = X.nonzero()\n",
    "            \n",
    "ax.scatter(x, y, -z, zdir='z', c= 'red')\n",
    "plt.show()"
   ]
  },
  {
   "cell_type": "code",
   "execution_count": 9,
   "id": "ec60610b-7d90-461b-a8b7-99a755d8c00d",
   "metadata": {},
   "outputs": [
    {
     "data": {
      "text/plain": [
       "[<matplotlib.lines.Line2D at 0x189ca47da00>]"
      ]
     },
     "execution_count": 9,
     "metadata": {},
     "output_type": "execute_result"
    },
    {
     "data": {
      "image/png": "[encoded data removed]",
      "text/plain": [
       "<Figure size 432x288 with 1 Axes>"
      ]
     },
     "metadata": {
      "needs_background": "light"
     },
     "output_type": "display_data"
    }
   ],
   "source": [
    "#Exemplo 1 pessoa\n",
    "store = []\n",
    "for i in range(90):\n",
    "    for j in range (90):\n",
    "        store.append(X[i][j][15])\n",
    "        #print(X[i][j][0])\n",
    "        \n",
    "plt.plot(store)"
   ]
  },
  {
   "cell_type": "markdown",
   "id": "8ce2fc39-9e0e-493d-a5f6-08f842cf5790",
   "metadata": {
    "tags": []
   },
   "source": [
    "# Importar matrizes de conectividade"
   ]
  },
  {
   "cell_type": "code",
   "execution_count": 10,
   "id": "d606aef1-2fae-4049-adbe-77b1f2e1dced",
   "metadata": {},
   "outputs": [
    {
     "name": "stdout",
     "output_type": "stream",
     "text": [
      "dict_keys(['__header__', '__version__', '__globals__', 'train_data'])\n",
      "dict_keys(['__header__', '__version__', '__globals__', 'test_data'])\n",
      "(112, 90, 90)\n",
      "(28, 90, 90)\n",
      "[[0.         0.14089113 0.         ... 0.         0.19306904 0.        ]\n",
      " [0.         0.14729737 0.         ... 0.         0.27594885 0.        ]\n",
      " [0.         0.09172448 0.         ... 0.         0.26091532 0.        ]\n",
      " ...\n",
      " [0.         0.17966329 0.01368047 ... 0.         0.21333905 0.        ]\n",
      " [0.         0.19346361 0.         ... 0.         0.22222851 0.        ]\n",
      " [0.         0.12259173 0.         ... 0.         0.25970463 0.        ]]\n"
     ]
    }
   ],
   "source": [
    "def get_data_from_mat(train_file,test_file):\n",
    "    train_mat = scipy.io.loadmat(train_file) \n",
    "    test_mat = scipy.io.loadmat(test_file) \n",
    "    print(train_mat.keys())\n",
    "    print(test_mat.keys())\n",
    "    train_np = np.array(train_mat['train_data']).transpose(2,0,1)\n",
    "    test_np = np.array(test_mat['test_data']).transpose(2,0,1)\n",
    "    print(train_np.shape)\n",
    "    print(test_np.shape)\n",
    "    return  train_np, test_np\n",
    "\n",
    "\n",
    "train_matr, test_matr = get_data_from_mat('../data/train_data.mat','../data/test_data.mat')\n",
    "\n",
    "\n",
    "#array([[1, 2, 3],\n",
    "#       [4, 5, 6],\n",
    "#       [7, 8, 9]])\n",
    "\n",
    "train_mat=np.empty(shape=(112,4005))\n",
    "test_mat=np.empty(shape=(28,4005))\n",
    "\n",
    "for mat in range(len(train_matr)):\n",
    "    train_mat[mat] = train_matr[mat][np.triu_indices(90, k = 1)]\n",
    "    \n",
    "for mat in range(len(test_matr)):\n",
    "    test_mat[mat] = test_matr[mat][np.triu_indices(90, k = 1)]\n",
    "\n",
    "print(test_mat)\n"
   ]
  },
  {
   "cell_type": "markdown",
   "id": "b9a9ebb1-9350-4c9d-81ab-464927d27dfd",
   "metadata": {},
   "source": [
    "# Treinar o modelo 1 - Utilizar os dados das matrizes e apenas as labels do csv\n"
   ]
  },
  {
   "cell_type": "code",
   "execution_count": 11,
   "id": "6f715b5d-af62-4dd6-99b4-95a90943040b",
   "metadata": {},
   "outputs": [
    {
     "name": "stdout",
     "output_type": "stream",
     "text": [
      "[name: \"/device:CPU:0\"\n",
      "device_type: \"CPU\"\n",
      "memory_limit: 268435456\n",
      "locality {\n",
      "}\n",
      "incarnation: 1918968286801853137\n",
      ", name: \"/device:GPU:0\"\n",
      "device_type: \"GPU\"\n",
      "memory_limit: 3804749824\n",
      "locality {\n",
      "  bus_id: 1\n",
      "  links {\n",
      "  }\n",
      "}\n",
      "incarnation: 10710387103204104962\n",
      "physical_device_desc: \"device: 0, name: NVIDIA GeForce RTX 2060, pci bus id: 0000:01:00.0, compute capability: 7.5\"\n",
      "]\n"
     ]
    }
   ],
   "source": [
    "import tensorflow as tf\n",
    "import tensorflow.keras.backend as K\n",
    "from tensorflow.python.client import device_lib\n",
    "print(device_lib.list_local_devices())"
   ]
  },
  {
   "cell_type": "code",
   "execution_count": 12,
   "id": "d7efde09-caa8-4f90-8a4f-8ac2d0b3e3ae",
   "metadata": {},
   "outputs": [
    {
     "name": "stdout",
     "output_type": "stream",
     "text": [
      "A acertar o backend e libertar memória da grafica\n",
      "[PhysicalDevice(name='/physical_device:GPU:0', device_type='GPU')]\n"
     ]
    }
   ],
   "source": [
    "#para melhor gestão memória GPU por parte do tensorflow\n",
    "\n",
    "def set_keras_backend(backend):\n",
    "    print(\"A acertar o backend e libertar memória da grafica\")\n",
    "    if K.backend() != backend:\n",
    "        os.environ['KERAS_BACKEND'] = backend\n",
    "        importlib.reload(K)\n",
    "        assert K.backend() == backend\n",
    "    if backend == \"tensorflow\":\n",
    "        # Allow memory growth for the GPU\n",
    "        physical_devices = tf.config.experimental.list_physical_devices('GPU')\n",
    "        print(physical_devices)\n",
    "        tf.config.experimental.set_memory_growth(physical_devices[0], True)  \n",
    "  \n",
    "  \n",
    "set_keras_backend(\"tensorflow\")"
   ]
  },
  {
   "cell_type": "code",
   "execution_count": 13,
   "id": "30d3047c-3949-455f-958a-7c2259ebdfa3",
   "metadata": {},
   "outputs": [
    {
     "name": "stdout",
     "output_type": "stream",
     "text": [
      "Model: \"model\"\n",
      "__________________________________________________________________________________________________\n",
      "Layer (type)                    Output Shape         Param #     Connected to                     \n",
      "==================================================================================================\n",
      "input_2 (InputLayer)            [(None, 2)]          0                                            \n",
      "__________________________________________________________________________________________________\n",
      "input_1 (InputLayer)            [(None, 4005)]       0                                            \n",
      "__________________________________________________________________________________________________\n",
      "flatten (Flatten)               (None, 2)            0           input_2[0][0]                    \n",
      "__________________________________________________________________________________________________\n",
      "concatenate (Concatenate)       (None, 4007)         0           input_1[0][0]                    \n",
      "                                                                 flatten[0][0]                    \n",
      "__________________________________________________________________________________________________\n",
      "dense (Dense)                   (None, 128)          513024      concatenate[0][0]                \n",
      "__________________________________________________________________________________________________\n",
      "dense_1 (Dense)                 (None, 128)          16512       dense[0][0]                      \n",
      "__________________________________________________________________________________________________\n",
      "dense_2 (Dense)                 (None, 100)          12900       dense_1[0][0]                    \n",
      "__________________________________________________________________________________________________\n",
      "dense_3 (Dense)                 (None, 1)            101         dense_2[0][0]                    \n",
      "==================================================================================================\n",
      "Total params: 542,537\n",
      "Trainable params: 542,537\n",
      "Non-trainable params: 0\n",
      "__________________________________________________________________________________________________\n"
     ]
    }
   ],
   "source": [
    "from tensorflow import keras\n",
    "from tensorflow.keras.models import Sequential, Model\n",
    "from tensorflow.keras.layers import Conv2D,MaxPooling2D,Flatten, Dense, Embedding, BatchNormalization,Activation,Dropout, Input, concatenate,Conv1D,MaxPooling1D\n",
    "from livelossplot.inputs.tf_keras import PlotLossesCallback\n",
    "from tensorflow.keras.initializers import RandomNormal, Constant\n",
    "\n",
    "y_train = train_data['age']\n",
    "x_train = train_mat\n",
    "x_train2 = train_data.drop(['age','id'],axis=1)\n",
    "\n",
    "\n",
    "\n",
    "inputs = Input(shape=(4005))\n",
    "\n",
    "\n",
    "\n",
    "\n",
    "inputs2 = Input(shape = (2))\n",
    "\n",
    "flat2 = Flatten()(inputs2)\n",
    "\n",
    "\n",
    "\n",
    "concat = concatenate([inputs, flat2])\n",
    "\n",
    "dense1 = Dense(128, activation='relu')(concat)\n",
    "dense2 = Dense(128, activation='relu') (dense1)\n",
    "dense3 = Dense(100, activation='relu') (dense2)\n",
    "output = Dense(1, activation='relu') (dense3)\n",
    "\n",
    "model = Model([inputs,inputs2], output)\n",
    "\n",
    "model.summary()"
   ]
  },
  {
   "cell_type": "code",
   "execution_count": 14,
   "id": "5929cac4-cd2e-4c61-8eea-9970a376bd48",
   "metadata": {},
   "outputs": [
    {
     "data": {
      "image/png": "[encoded data removed]",
      "text/plain": [
       "<Figure size 864x576 with 2 Axes>"
      ]
     },
     "metadata": {
      "needs_background": "light"
     },
     "output_type": "display_data"
    },
    {
     "name": "stdout",
     "output_type": "stream",
     "text": [
      "Loss\n",
      "\ttraining         \t (min:    0.117, max: 2313.057, cur:    0.159)\n",
      "\tvalidation       \t (min:   64.715, max: 2082.353, cur:   66.553)\n",
      "mean_absolute_error\n",
      "\ttraining         \t (min:    0.247, max:   42.368, cur:    0.331)\n",
      "\tvalidation       \t (min:    5.914, max:   39.913, cur:    6.053)\n"
     ]
    }
   ],
   "source": [
    "from sklearn.model_selection import train_test_split, LeaveOneOut\n",
    "\n",
    "x_train, x_test, x_train2, x_test2, y_train, y_test  = train_test_split(x_train,x_train2,y_train, test_size=0.2, random_state=25)\n",
    "\n",
    "\n",
    "model.compile(optimizer='adam', loss='mean_squared_error', metrics='mean_absolute_error')\n",
    "\n",
    "\n",
    "\n",
    "\n",
    "history = model.fit([x_train,x_train2], y_train, epochs=200, batch_size=16, validation_data=([x_test,x_test2],y_test), callbacks=[PlotLossesCallback()])\n",
    "\n"
   ]
  },
  {
   "cell_type": "markdown",
   "id": "c752d720-49bf-4d27-a945-64c178b8edcc",
   "metadata": {},
   "source": [
    "# Usar o modelo"
   ]
  },
  {
   "cell_type": "code",
   "execution_count": null,
   "id": "96556272-ba69-4c96-a429-5b98b6b620f0",
   "metadata": {},
   "outputs": [],
   "source": []
  },
  {
   "cell_type": "code",
   "execution_count": 15,
   "id": "9ed96b21-d2a9-415c-9d83-0c8ca1ae44b0",
   "metadata": {},
   "outputs": [
    {
     "name": "stdout",
     "output_type": "stream",
     "text": [
      "[[22.824474]\n",
      " [22.41953 ]\n",
      " [18.313375]\n",
      " [20.62278 ]\n",
      " [22.762085]\n",
      " [28.57648 ]\n",
      " [62.43837 ]\n",
      " [47.73092 ]\n",
      " [55.413204]\n",
      " [77.99375 ]\n",
      " [66.01324 ]\n",
      " [78.31355 ]\n",
      " [75.83568 ]\n",
      " [80.17848 ]\n",
      " [19.20898 ]\n",
      " [17.89455 ]\n",
      " [20.054052]\n",
      " [26.889372]\n",
      " [21.666698]\n",
      " [26.413017]\n",
      " [50.941612]\n",
      " [61.91245 ]\n",
      " [57.80396 ]\n",
      " [86.60725 ]\n",
      " [58.081593]\n",
      " [61.603367]\n",
      " [63.88635 ]\n",
      " [72.98575 ]]\n"
     ]
    }
   ],
   "source": [
    "resultados_finais = model.predict([test_mat,test_data.drop(['id'],axis=1)])\n",
    "print(resultados_finais)"
   ]
  },
  {
   "cell_type": "markdown",
   "id": "7a183492-07ac-42f5-b095-bca571f122bb",
   "metadata": {},
   "source": [
    "# Prepare submission"
   ]
  },
  {
   "cell_type": "code",
   "execution_count": 16,
   "id": "d18b1c84-44f0-46b0-840a-02a5c5638a66",
   "metadata": {},
   "outputs": [],
   "source": [
    "with open(\"submissao.csv\", \"w\") as sub:\n",
    "    # Writing data to a file\n",
    "    sub.write('id,age\\n')\n",
    "    for i in test_data['id']:\n",
    "        sub.write(str(i)+','+str(float(resultados_finais[i-1]))+'\\n')\n",
    "    "
   ]
  }
 ],
 "metadata": {
  "kernelspec": {
   "display_name": "Python 3 (ipykernel)",
   "language": "python",
   "name": "python3"
  },
  "language_info": {
   "codemirror_mode": {
    "name": "ipython",
    "version": 3
   },
   "file_extension": ".py",
   "mimetype": "text/x-python",
   "name": "python",
   "nbconvert_exporter": "python",
   "pygments_lexer": "ipython3",
   "version": "3.8.13"
  }
 },
 "nbformat": 4,
 "nbformat_minor": 5
}
