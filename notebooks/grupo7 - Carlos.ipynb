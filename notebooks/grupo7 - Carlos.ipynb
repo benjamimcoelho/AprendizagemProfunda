{
 "cells": [
  {
   "cell_type": "markdown",
   "id": "01708b8a-0cb0-4490-a235-9d218b23642f",
   "metadata": {},
   "source": [
    "# Import dataset csv"
   ]
  },
  {
   "cell_type": "code",
   "execution_count": 1,
   "id": "113262f1-05a5-4142-b676-4c2b472efed8",
   "metadata": {},
   "outputs": [],
   "source": [
    "import pandas as pd\n",
    "train_data = pd.read_csv(r'../data/train.csv')\n",
    "test_data = pd.read_csv(r'../data/test.csv')"
   ]
  },
  {
   "cell_type": "markdown",
   "id": "0905eef4-d364-4117-a8ce-b6f56d0ea81f",
   "metadata": {},
   "source": [
    "# Importar matrizes de conectividade"
   ]
  },
  {
   "cell_type": "code",
   "execution_count": 2,
   "id": "39fd42bd-8cbf-4408-8b46-b7f60addb525",
   "metadata": {},
   "outputs": [],
   "source": [
    "import numpy as np\n",
    "import scipy.io\n",
    "\n",
    "train_mat = scipy.io.loadmat('../data/train_data.mat') \n",
    "test_mat = scipy.io.loadmat('../data/test_data.mat') "
   ]
  },
  {
   "cell_type": "code",
   "execution_count": 3,
   "id": "fe22c474-5f00-47cb-ba7e-519d1090f07d",
   "metadata": {},
   "outputs": [
    {
     "name": "stdout",
     "output_type": "stream",
     "text": [
      "dict_keys(['__header__', '__version__', '__globals__', 'train_data'])\n",
      "dict_keys(['__header__', '__version__', '__globals__', 'test_data'])\n",
      "(112, 90, 90)\n",
      "(28, 90, 90)\n"
     ]
    }
   ],
   "source": [
    "def get_data_from_mat(train_file,test_file):\n",
    "    train_mat = scipy.io.loadmat(train_file) \n",
    "    test_mat = scipy.io.loadmat(test_file) \n",
    "    print(train_mat.keys())\n",
    "    print(test_mat.keys())\n",
    "    train_np = np.array(train_mat['train_data']).transpose(2,0,1)\n",
    "    test_np = np.array(test_mat['test_data']).transpose(2,0,1)\n",
    "    print(train_np.shape)\n",
    "    print(test_np.shape)\n",
    "    return  train_np, test_np\n",
    "\n",
    "\n",
    "train_mat, test_mat = get_data_from_mat('../data/train_data.mat','../data/test_data.mat')"
   ]
  },
  {
   "cell_type": "markdown",
   "id": "99f4ff9d-d0c9-4f26-9b4d-695fb82dd55e",
   "metadata": {},
   "source": [
    "# Visualisar os dados"
   ]
  },
  {
   "cell_type": "code",
   "execution_count": 4,
   "id": "6002df18-8822-4fa6-962e-b037cb5fa861",
   "metadata": {},
   "outputs": [
    {
     "name": "stdout",
     "output_type": "stream",
     "text": [
      "[[[0.         0.         0.         ... 0.         0.         0.        ]\n",
      "  [0.         0.         0.         ... 0.         0.         0.        ]\n",
      "  [0.13152513 0.11770353 0.15580596 ... 0.11608478 0.15665442 0.11458643]\n",
      "  ...\n",
      "  [0.         0.         0.         ... 0.         0.         0.        ]\n",
      "  [0.         0.         0.         ... 0.02631835 0.01242944 0.        ]\n",
      "  [0.         0.         0.         ... 0.         0.         0.        ]]\n",
      "\n",
      " [[0.         0.         0.         ... 0.         0.         0.        ]\n",
      "  [0.         0.         0.         ... 0.         0.         0.        ]\n",
      "  [0.         0.         0.         ... 0.         0.         0.        ]\n",
      "  ...\n",
      "  [0.         0.         0.         ... 0.         0.         0.        ]\n",
      "  [0.         0.         0.         ... 0.         0.         0.        ]\n",
      "  [0.         0.         0.         ... 0.01770987 0.         0.        ]]\n",
      "\n",
      " [[0.13152513 0.11770353 0.15580596 ... 0.11608478 0.15665442 0.11458643]\n",
      "  [0.         0.         0.         ... 0.         0.         0.        ]\n",
      "  [0.         0.         0.         ... 0.         0.         0.        ]\n",
      "  ...\n",
      "  [0.         0.         0.         ... 0.         0.         0.        ]\n",
      "  [0.         0.         0.         ... 0.         0.         0.        ]\n",
      "  [0.         0.         0.         ... 0.         0.         0.        ]]\n",
      "\n",
      " ...\n",
      "\n",
      " [[0.         0.         0.         ... 0.         0.         0.        ]\n",
      "  [0.         0.         0.         ... 0.         0.         0.        ]\n",
      "  [0.         0.         0.         ... 0.         0.         0.        ]\n",
      "  ...\n",
      "  [0.         0.         0.         ... 0.         0.         0.        ]\n",
      "  [0.         0.         0.         ... 0.         0.         0.        ]\n",
      "  [0.28060623 0.20747819 0.24647168 ... 0.24678357 0.2162594  0.27481224]]\n",
      "\n",
      " [[0.         0.         0.         ... 0.02631835 0.01242944 0.        ]\n",
      "  [0.         0.         0.         ... 0.         0.         0.        ]\n",
      "  [0.         0.         0.         ... 0.         0.         0.        ]\n",
      "  ...\n",
      "  [0.         0.         0.         ... 0.         0.         0.        ]\n",
      "  [0.         0.         0.         ... 0.         0.         0.        ]\n",
      "  [0.         0.         0.         ... 0.         0.         0.        ]]\n",
      "\n",
      " [[0.         0.         0.         ... 0.         0.         0.        ]\n",
      "  [0.         0.         0.         ... 0.01770987 0.         0.        ]\n",
      "  [0.         0.         0.         ... 0.         0.         0.        ]\n",
      "  ...\n",
      "  [0.28060623 0.20747819 0.24647168 ... 0.24678357 0.2162594  0.27481224]\n",
      "  [0.         0.         0.         ... 0.         0.         0.        ]\n",
      "  [0.         0.         0.         ... 0.         0.         0.        ]]]\n"
     ]
    }
   ],
   "source": [
    "import numpy as np\n",
    "import scipy.io\n",
    "\n",
    "mat = scipy.io.loadmat('../data/train_data.mat')\n",
    "\n",
    "X = mat[\"train_data\"]\n",
    "print(X)"
   ]
  },
  {
   "cell_type": "code",
   "execution_count": 5,
   "id": "d0c09806-46bf-4d3e-bd30-cc33bf3c55e6",
   "metadata": {},
   "outputs": [
    {
     "data": {
      "image/png": "[encoded data removed]",
      "text/plain": [
       "<Figure size 432x288 with 1 Axes>"
      ]
     },
     "metadata": {
      "needs_background": "light"
     },
     "output_type": "display_data"
    }
   ],
   "source": [
    "#todos\n",
    "import matplotlib.pyplot as plt\n",
    "from mpl_toolkits.mplot3d import Axes3D\n",
    "fig = plt.figure()\n",
    "ax = fig.add_subplot(111, projection='3d')\n",
    "\n",
    "z,x,y = X.nonzero()\n",
    "            \n",
    "ax.scatter(x, y, -z, zdir='z', c= 'red')\n",
    "plt.show()"
   ]
  },
  {
   "cell_type": "code",
   "execution_count": 6,
   "id": "c9d23761-281e-4511-b809-18f01c0b1c81",
   "metadata": {},
   "outputs": [
    {
     "data": {
      "text/plain": [
       "[<matplotlib.lines.Line2D at 0x29d79291340>]"
      ]
     },
     "execution_count": 6,
     "metadata": {},
     "output_type": "execute_result"
    },
    {
     "data": {
      "image/png": "[encoded data removed]",
      "text/plain": [
       "<Figure size 432x288 with 1 Axes>"
      ]
     },
     "metadata": {
      "needs_background": "light"
     },
     "output_type": "display_data"
    }
   ],
   "source": [
    "#Exemplo 1 pessoa\n",
    "store = []\n",
    "for i in range(90):\n",
    "    for j in range (90):\n",
    "        store.append(X[i][j][15])\n",
    "        #print(X[i][j][0])\n",
    "        \n",
    "plt.plot(store)"
   ]
  },
  {
   "cell_type": "markdown",
   "id": "2681c522-0750-4583-81d7-7586eb4adf2b",
   "metadata": {},
   "source": [
    "# Tratar Dados"
   ]
  },
  {
   "cell_type": "code",
   "execution_count": 7,
   "id": "61811bff-16be-4453-819b-7d40a6447e3e",
   "metadata": {},
   "outputs": [],
   "source": [
    "education_train = []\n",
    "for ar in zip(train_data['education']):\n",
    "    age = ar[0]\n",
    "    if age > 16:\n",
    "        education_train.append('Muito Alta')\n",
    "    elif age > 12: \n",
    "        education_train.append('Alta')\n",
    "    elif age > 8: \n",
    "        education_train.append('Normal')\n",
    "    elif age > 4:\n",
    "        education_train.append('Baixa')\n",
    "    else:\n",
    "        education_train.append('Muito Baixa')\n",
    "\n",
    "education_test = []\n",
    "for ar in zip(test_data['education']):\n",
    "    age = ar[0]\n",
    "    if age > 16:\n",
    "        education_test.append('Muito Alta')\n",
    "    elif age > 12: \n",
    "        education_test.append('Alta')\n",
    "    elif age > 8: \n",
    "        education_test.append('Normal')\n",
    "    elif age > 4:\n",
    "        education_test.append('Baixa')\n",
    "    else:\n",
    "        education_test.append('Muito Baixa')\n",
    "\n",
    "train_data['education'] = education_train\n",
    "test_data['education'] = education_test\n",
    "\n",
    "train_data['education'] = train_data['education'].astype('category')\n",
    "train_data['education'] = train_data['education'].cat.codes\n",
    "\n",
    "test_data['education'] = test_data['education'].astype('category')\n",
    "test_data['education'] = test_data['education'].cat.codes"
   ]
  },
  {
   "cell_type": "code",
   "execution_count": 8,
   "id": "3f199de6-c259-4a13-af32-d1e8ad838fb5",
   "metadata": {},
   "outputs": [],
   "source": [
    "#remover ids\n",
    "#train_data.drop('id', axis=1, inplace=True)"
   ]
  },
  {
   "cell_type": "code",
   "execution_count": 9,
   "id": "25eb04fb-ce6d-4c84-bea0-596bb68c3b29",
   "metadata": {},
   "outputs": [
    {
     "data": {
      "text/html": [
       "<div>\n",
       "<style scoped>\n",
       "    .dataframe tbody tr th:only-of-type {\n",
       "        vertical-align: middle;\n",
       "    }\n",
       "\n",
       "    .dataframe tbody tr th {\n",
       "        vertical-align: top;\n",
       "    }\n",
       "\n",
       "    .dataframe thead th {\n",
       "        text-align: right;\n",
       "    }\n",
       "</style>\n",
       "<table border=\"1\" class=\"dataframe\">\n",
       "  <thead>\n",
       "    <tr style=\"text-align: right;\">\n",
       "      <th></th>\n",
       "      <th>id</th>\n",
       "      <th>age</th>\n",
       "      <th>sex</th>\n",
       "      <th>education</th>\n",
       "    </tr>\n",
       "  </thead>\n",
       "  <tbody>\n",
       "    <tr>\n",
       "      <th>0</th>\n",
       "      <td>1</td>\n",
       "      <td>13</td>\n",
       "      <td>1</td>\n",
       "      <td>1</td>\n",
       "    </tr>\n",
       "    <tr>\n",
       "      <th>1</th>\n",
       "      <td>2</td>\n",
       "      <td>14</td>\n",
       "      <td>0</td>\n",
       "      <td>1</td>\n",
       "    </tr>\n",
       "    <tr>\n",
       "      <th>2</th>\n",
       "      <td>3</td>\n",
       "      <td>15</td>\n",
       "      <td>1</td>\n",
       "      <td>4</td>\n",
       "    </tr>\n",
       "    <tr>\n",
       "      <th>3</th>\n",
       "      <td>4</td>\n",
       "      <td>15</td>\n",
       "      <td>1</td>\n",
       "      <td>4</td>\n",
       "    </tr>\n",
       "    <tr>\n",
       "      <th>4</th>\n",
       "      <td>5</td>\n",
       "      <td>15</td>\n",
       "      <td>1</td>\n",
       "      <td>4</td>\n",
       "    </tr>\n",
       "  </tbody>\n",
       "</table>\n",
       "</div>"
      ],
      "text/plain": [
       "   id  age  sex  education\n",
       "0   1   13    1          1\n",
       "1   2   14    0          1\n",
       "2   3   15    1          4\n",
       "3   4   15    1          4\n",
       "4   5   15    1          4"
      ]
     },
     "execution_count": 9,
     "metadata": {},
     "output_type": "execute_result"
    }
   ],
   "source": [
    "train_data.head()"
   ]
  },
  {
   "cell_type": "markdown",
   "id": "85432683-9bd6-4322-98bd-5a9e63353463",
   "metadata": {},
   "source": [
    "# Treinar o modelo 1 - Utilizar os dados das matrizes e apenas as labels do csv\n"
   ]
  },
  {
   "cell_type": "code",
   "execution_count": 10,
   "id": "27b32773-e6b9-4b31-987d-bff90be5ff17",
   "metadata": {},
   "outputs": [
    {
     "name": "stdout",
     "output_type": "stream",
     "text": [
      "[name: \"/device:CPU:0\"\n",
      "device_type: \"CPU\"\n",
      "memory_limit: 268435456\n",
      "locality {\n",
      "}\n",
      "incarnation: 7239129418757484872\n",
      "xla_global_id: -1\n",
      "]\n"
     ]
    }
   ],
   "source": [
    "import tensorflow as tf\n",
    "import tensorflow.keras.backend as K\n",
    "from tensorflow.python.client import device_lib\n",
    "print(device_lib.list_local_devices())"
   ]
  },
  {
   "cell_type": "code",
   "execution_count": 11,
   "id": "63ab722e",
   "metadata": {},
   "outputs": [
    {
     "name": "stdout",
     "output_type": "stream",
     "text": [
      "A acertar o backend e libertar memória da grafica\n",
      "[PhysicalDevice(name='/physical_device:CPU:0', device_type='CPU')]\n"
     ]
    },
    {
     "ename": "ValueError",
     "evalue": "Cannot set memory growth on non-GPU devices",
     "output_type": "error",
     "traceback": [
      "\u001b[1;31m---------------------------------------------------------------------------\u001b[0m",
      "\u001b[1;31mValueError\u001b[0m                                Traceback (most recent call last)",
      "\u001b[1;32mC:\\Users\\CARLOS~1\\AppData\\Local\\Temp/ipykernel_14348/2656124504.py\u001b[0m in \u001b[0;36m<module>\u001b[1;34m\u001b[0m\n\u001b[0;32m     14\u001b[0m \u001b[1;33m\u001b[0m\u001b[0m\n\u001b[0;32m     15\u001b[0m \u001b[1;33m\u001b[0m\u001b[0m\n\u001b[1;32m---> 16\u001b[1;33m \u001b[0mset_keras_backend\u001b[0m\u001b[1;33m(\u001b[0m\u001b[1;34m\"tensorflow\"\u001b[0m\u001b[1;33m)\u001b[0m\u001b[1;33m\u001b[0m\u001b[1;33m\u001b[0m\u001b[0m\n\u001b[0m",
      "\u001b[1;32mC:\\Users\\CARLOS~1\\AppData\\Local\\Temp/ipykernel_14348/2656124504.py\u001b[0m in \u001b[0;36mset_keras_backend\u001b[1;34m(backend)\u001b[0m\n\u001b[0;32m     11\u001b[0m         \u001b[0mphysical_devices\u001b[0m \u001b[1;33m=\u001b[0m \u001b[0mtf\u001b[0m\u001b[1;33m.\u001b[0m\u001b[0mconfig\u001b[0m\u001b[1;33m.\u001b[0m\u001b[0mexperimental\u001b[0m\u001b[1;33m.\u001b[0m\u001b[0mlist_physical_devices\u001b[0m\u001b[1;33m(\u001b[0m\u001b[1;34m'CPU'\u001b[0m\u001b[1;33m)\u001b[0m\u001b[1;33m\u001b[0m\u001b[1;33m\u001b[0m\u001b[0m\n\u001b[0;32m     12\u001b[0m         \u001b[0mprint\u001b[0m\u001b[1;33m(\u001b[0m\u001b[0mphysical_devices\u001b[0m\u001b[1;33m)\u001b[0m\u001b[1;33m\u001b[0m\u001b[1;33m\u001b[0m\u001b[0m\n\u001b[1;32m---> 13\u001b[1;33m         \u001b[0mtf\u001b[0m\u001b[1;33m.\u001b[0m\u001b[0mconfig\u001b[0m\u001b[1;33m.\u001b[0m\u001b[0mexperimental\u001b[0m\u001b[1;33m.\u001b[0m\u001b[0mset_memory_growth\u001b[0m\u001b[1;33m(\u001b[0m\u001b[0mphysical_devices\u001b[0m\u001b[1;33m[\u001b[0m\u001b[1;36m0\u001b[0m\u001b[1;33m]\u001b[0m\u001b[1;33m,\u001b[0m \u001b[1;32mTrue\u001b[0m\u001b[1;33m)\u001b[0m\u001b[1;33m\u001b[0m\u001b[1;33m\u001b[0m\u001b[0m\n\u001b[0m\u001b[0;32m     14\u001b[0m \u001b[1;33m\u001b[0m\u001b[0m\n\u001b[0;32m     15\u001b[0m \u001b[1;33m\u001b[0m\u001b[0m\n",
      "\u001b[1;32m~\\anaconda3\\envs\\DAA\\lib\\site-packages\\tensorflow\\python\\framework\\config.py\u001b[0m in \u001b[0;36mset_memory_growth\u001b[1;34m(device, enable)\u001b[0m\n\u001b[0;32m    714\u001b[0m     \u001b[0mRuntimeError\u001b[0m\u001b[1;33m:\u001b[0m \u001b[0mRuntime\u001b[0m \u001b[1;32mis\u001b[0m \u001b[0malready\u001b[0m \u001b[0minitialized\u001b[0m\u001b[1;33m.\u001b[0m\u001b[1;33m\u001b[0m\u001b[1;33m\u001b[0m\u001b[0m\n\u001b[0;32m    715\u001b[0m   \"\"\"\n\u001b[1;32m--> 716\u001b[1;33m   \u001b[0mcontext\u001b[0m\u001b[1;33m.\u001b[0m\u001b[0mcontext\u001b[0m\u001b[1;33m(\u001b[0m\u001b[1;33m)\u001b[0m\u001b[1;33m.\u001b[0m\u001b[0mset_memory_growth\u001b[0m\u001b[1;33m(\u001b[0m\u001b[0mdevice\u001b[0m\u001b[1;33m,\u001b[0m \u001b[0menable\u001b[0m\u001b[1;33m)\u001b[0m\u001b[1;33m\u001b[0m\u001b[1;33m\u001b[0m\u001b[0m\n\u001b[0m\u001b[0;32m    717\u001b[0m \u001b[1;33m\u001b[0m\u001b[0m\n\u001b[0;32m    718\u001b[0m \u001b[1;33m\u001b[0m\u001b[0m\n",
      "\u001b[1;32m~\\anaconda3\\envs\\DAA\\lib\\site-packages\\tensorflow\\python\\eager\\context.py\u001b[0m in \u001b[0;36mset_memory_growth\u001b[1;34m(self, dev, enable)\u001b[0m\n\u001b[0;32m   1551\u001b[0m \u001b[1;33m\u001b[0m\u001b[0m\n\u001b[0;32m   1552\u001b[0m     \u001b[1;32mif\u001b[0m \u001b[0mdev\u001b[0m\u001b[1;33m.\u001b[0m\u001b[0mdevice_type\u001b[0m \u001b[1;33m!=\u001b[0m \u001b[1;34m\"GPU\"\u001b[0m\u001b[1;33m:\u001b[0m\u001b[1;33m\u001b[0m\u001b[1;33m\u001b[0m\u001b[0m\n\u001b[1;32m-> 1553\u001b[1;33m       \u001b[1;32mraise\u001b[0m \u001b[0mValueError\u001b[0m\u001b[1;33m(\u001b[0m\u001b[1;34m\"Cannot set memory growth on non-GPU devices\"\u001b[0m\u001b[1;33m)\u001b[0m\u001b[1;33m\u001b[0m\u001b[1;33m\u001b[0m\u001b[0m\n\u001b[0m\u001b[0;32m   1554\u001b[0m \u001b[1;33m\u001b[0m\u001b[0m\n\u001b[0;32m   1555\u001b[0m     \u001b[1;32mif\u001b[0m \u001b[0mself\u001b[0m\u001b[1;33m.\u001b[0m\u001b[0m_memory_growth_map\u001b[0m\u001b[1;33m.\u001b[0m\u001b[0mget\u001b[0m\u001b[1;33m(\u001b[0m\u001b[0mdev\u001b[0m\u001b[1;33m)\u001b[0m \u001b[1;33m==\u001b[0m \u001b[0menable\u001b[0m\u001b[1;33m:\u001b[0m\u001b[1;33m\u001b[0m\u001b[1;33m\u001b[0m\u001b[0m\n",
      "\u001b[1;31mValueError\u001b[0m: Cannot set memory growth on non-GPU devices"
     ]
    }
   ],
   "source": [
    "#para melhor gestão memória GPU por parte do tensorflow\n",
    "\n",
    "def set_keras_backend(backend):\n",
    "    print(\"A acertar o backend e libertar memória da grafica\")\n",
    "    if K.backend() != backend:\n",
    "        os.environ['KERAS_BACKEND'] = backend\n",
    "        importlib.reload(K)\n",
    "        assert K.backend() == backend\n",
    "    if backend == \"tensorflow\":\n",
    "        # Allow memory growth for the GPU\n",
    "        physical_devices = tf.config.experimental.list_physical_devices('CPU')\n",
    "        print(physical_devices)\n",
    "        tf.config.experimental.set_memory_growth(physical_devices[0], True)  \n",
    "  \n",
    "  \n",
    "set_keras_backend(\"tensorflow\")"
   ]
  },
  {
   "cell_type": "code",
   "execution_count": 12,
   "id": "a61f0ec0-bcc0-4c06-a5d5-5a1605395c6f",
   "metadata": {},
   "outputs": [],
   "source": [
    "from tensorflow.keras.layers import BatchNormalization, Dropout"
   ]
  },
  {
   "cell_type": "code",
   "execution_count": 13,
   "id": "f52514e8-b909-499b-b2ec-70130aeaf81a",
   "metadata": {},
   "outputs": [
    {
     "name": "stdout",
     "output_type": "stream",
     "text": [
      "Model: \"sequential\"\n",
      "_________________________________________________________________\n",
      " Layer (type)                Output Shape              Param #   \n",
      "=================================================================\n",
      " conv2d (Conv2D)             (None, 88, 88, 64)        640       \n",
      "                                                                 \n",
      " max_pooling2d (MaxPooling2D  (None, 44, 44, 64)       0         \n",
      " )                                                               \n",
      "                                                                 \n",
      " conv2d_1 (Conv2D)           (None, 42, 42, 128)       73856     \n",
      "                                                                 \n",
      " max_pooling2d_1 (MaxPooling  (None, 21, 21, 128)      0         \n",
      " 2D)                                                             \n",
      "                                                                 \n",
      " conv2d_2 (Conv2D)           (None, 19, 19, 128)       147584    \n",
      "                                                                 \n",
      " flatten (Flatten)           (None, 46208)             0         \n",
      "                                                                 \n",
      " dense (Dense)               (None, 128)               5914752   \n",
      "                                                                 \n",
      " dense_1 (Dense)             (None, 64)                8256      \n",
      "                                                                 \n",
      " dense_2 (Dense)             (None, 1)                 65        \n",
      "                                                                 \n",
      "=================================================================\n",
      "Total params: 6,145,153\n",
      "Trainable params: 6,145,153\n",
      "Non-trainable params: 0\n",
      "_________________________________________________________________\n"
     ]
    }
   ],
   "source": [
    "from tensorflow import keras\n",
    "from tensorflow.keras.models import Sequential\n",
    "from tensorflow.keras.layers import Conv2D,MaxPooling2D,Flatten, Dense, Embedding\n",
    "from livelossplot.inputs.tf_keras import PlotLossesCallback\n",
    "\n",
    "y_train = train_data['age']\n",
    "x_train = train_mat\n",
    "x_train = tf.expand_dims(x_train, axis=-1)\n",
    "\n",
    "model = Sequential()\n",
    "model.add(Conv2D(64, (3, 3), activation='relu', input_shape=(90,90,1)))\n",
    "model.add(MaxPooling2D((2, 2)))\n",
    "model.add(Conv2D(128, (3, 3), activation='relu'))\n",
    "model.add(MaxPooling2D((2, 2)))\n",
    "model.add(Conv2D(128, (3, 3), activation='relu'))\n",
    "model.add(Flatten())\n",
    "model.add(Dense(128, activation='relu'))\n",
    "model.add(Dense(64, activation='relu'))\n",
    "model.add(Dense(1, activation='relu'))\n",
    "\n",
    "model.summary()"
   ]
  },
  {
   "cell_type": "code",
   "execution_count": 14,
   "id": "201b300e-5ea9-4da9-811b-bca274a321df",
   "metadata": {},
   "outputs": [
    {
     "data": {
      "image/png": "[encoded data removed]",
      "text/plain": [
       "<Figure size 864x576 with 2 Axes>"
      ]
     },
     "metadata": {
      "needs_background": "light"
     },
     "output_type": "display_data"
    },
    {
     "name": "stdout",
     "output_type": "stream",
     "text": [
      "Loss\n",
      "\ttraining         \t (min:  129.146, max: 1939.722, cur:  129.146)\n",
      "\tvalidation       \t (min:  149.588, max: 3630.189, cur:  152.004)\n",
      "mean_absolute_percentage_error\n",
      "\ttraining         \t (min:   26.441, max:   98.687, cur:   36.632)\n",
      "\tvalidation       \t (min:   14.451, max:   90.450, cur:   14.451)\n",
      "2/2 [==============================] - 2s 1s/step - loss: 129.1458 - mean_absolute_percentage_error: 36.6319 - val_loss: 152.0039 - val_mean_absolute_percentage_error: 14.4507\n"
     ]
    }
   ],
   "source": [
    "model.compile(optimizer='adam', loss='mean_squared_error', metrics='mean_absolute_percentage_error')\n",
    "history = model.fit(x_train, y_train, epochs=100, batch_size=64, validation_split=0.2, callbacks=[PlotLossesCallback()])"
   ]
  },
  {
   "cell_type": "markdown",
   "id": "69c2015d-3bfe-4cdf-879b-182eae35b431",
   "metadata": {},
   "source": [
    "# Aplicar o modelo às matrizes de treino"
   ]
  },
  {
   "cell_type": "code",
   "execution_count": 15,
   "id": "5ca091ab-dde0-436b-a784-8ed6159df29b",
   "metadata": {},
   "outputs": [
    {
     "name": "stdout",
     "output_type": "stream",
     "text": [
      "Evaluate\n",
      "[[24.077377]\n",
      " [25.8523  ]\n",
      " [34.384724]\n",
      " [25.152826]\n",
      " [27.709366]\n",
      " [44.28649 ]\n",
      " [36.76373 ]\n",
      " [25.89383 ]\n",
      " [31.703789]\n",
      " [30.475681]\n",
      " [35.709496]\n",
      " [25.03481 ]\n",
      " [38.191814]\n",
      " [30.147766]\n",
      " [21.176003]\n",
      " [30.4927  ]\n",
      " [24.389713]\n",
      " [28.566282]\n",
      " [28.435719]\n",
      " [29.474716]\n",
      " [28.017334]\n",
      " [23.202213]\n",
      " [26.393312]\n",
      " [30.524853]\n",
      " [27.678827]\n",
      " [25.929642]\n",
      " [38.653736]\n",
      " [32.48118 ]\n",
      " [33.652325]\n",
      " [32.173817]\n",
      " [27.30075 ]\n",
      " [30.79504 ]\n",
      " [29.313173]\n",
      " [30.29117 ]\n",
      " [27.337648]\n",
      " [31.817686]\n",
      " [34.416294]\n",
      " [27.49126 ]\n",
      " [33.779415]\n",
      " [26.940285]\n",
      " [33.54339 ]\n",
      " [28.648602]\n",
      " [36.599392]\n",
      " [32.08179 ]\n",
      " [29.508858]\n",
      " [26.309587]\n",
      " [31.461529]\n",
      " [28.524342]\n",
      " [27.417053]\n",
      " [20.071806]\n",
      " [24.042118]\n",
      " [28.300365]\n",
      " [34.836197]\n",
      " [28.107906]\n",
      " [32.5653  ]\n",
      " [73.43535 ]\n",
      " [52.859806]\n",
      " [70.57983 ]\n",
      " [46.94856 ]\n",
      " [66.62711 ]\n",
      " [53.192142]\n",
      " [65.24936 ]\n",
      " [67.54093 ]\n",
      " [72.443146]\n",
      " [56.99225 ]\n",
      " [73.22188 ]\n",
      " [74.72714 ]\n",
      " [56.15328 ]\n",
      " [59.315937]\n",
      " [84.87713 ]\n",
      " [61.72282 ]\n",
      " [59.57414 ]\n",
      " [73.692566]\n",
      " [77.93771 ]\n",
      " [54.00295 ]\n",
      " [48.45017 ]\n",
      " [60.552826]\n",
      " [51.210426]\n",
      " [73.26078 ]\n",
      " [79.93512 ]\n",
      " [53.75786 ]\n",
      " [57.51416 ]\n",
      " [57.097664]\n",
      " [48.733982]\n",
      " [58.994488]\n",
      " [68.18868 ]\n",
      " [63.554146]\n",
      " [74.92679 ]\n",
      " [71.22808 ]\n",
      " [48.44509 ]\n",
      " [69.61929 ]\n",
      " [78.85004 ]\n",
      " [67.16162 ]\n",
      " [75.261154]\n",
      " [58.742382]\n",
      " [57.614326]\n",
      " [74.13574 ]\n",
      " [60.29329 ]\n",
      " [63.136112]\n",
      " [50.84182 ]\n",
      " [49.521675]\n",
      " [58.166706]\n",
      " [63.38614 ]\n",
      " [58.649902]\n",
      " [65.702995]\n",
      " [44.68973 ]\n",
      " [62.64146 ]\n",
      " [72.42259 ]\n",
      " [62.931396]\n",
      " [64.496284]\n",
      " [62.216675]\n",
      " [57.61798 ]]\n"
     ]
    }
   ],
   "source": [
    "print(\"Evaluate\")\n",
    "train_mat = tf.expand_dims(train_mat, axis=-1)\n",
    "result = model.predict(train_mat)\n",
    "print(result)"
   ]
  },
  {
   "cell_type": "code",
   "execution_count": 16,
   "id": "7812157d-6e81-4fc5-8834-fbafaf04793d",
   "metadata": {},
   "outputs": [],
   "source": [
    "valores = []\n",
    "for x in result:\n",
    "    for y in x:\n",
    "        valores.append(y)"
   ]
  },
  {
   "cell_type": "code",
   "execution_count": 17,
   "id": "dacf8931-59a4-45c3-b8da-aaaa3be3408e",
   "metadata": {},
   "outputs": [],
   "source": [
    "train_data['Valores CNN'] = valores"
   ]
  },
  {
   "cell_type": "code",
   "execution_count": 11,
   "id": "d6c5219e-09e2-4cf7-a331-72c544062528",
   "metadata": {},
   "outputs": [],
   "source": [
    "train_data['Valores CNN'] = valores"
   ]
  },
  {
   "cell_type": "markdown",
   "id": "f67a95fd-2ffd-46f8-8e10-8b5f2fe44cbe",
   "metadata": {},
   "source": [
    "# Treinar o modelo 2 - com os dados todos do csv mais os resultados do primeiro treino"
   ]
  },
  {
   "cell_type": "markdown",
   "id": "100b60af-8784-45dd-a6c3-b3925fb8a9cc",
   "metadata": {},
   "source": [
    "# Treinar o modelo 2 - com os dados todos do csv mais os resultados do primeiro treino"
   ]
  },
  {
   "cell_type": "code",
   "execution_count": 20,
   "id": "de42e8fa-e77f-4d35-88c4-d85ea33d0bb9",
   "metadata": {},
   "outputs": [
    {
     "data": {
      "text/plain": [
       "(112, 5)"
      ]
     },
     "execution_count": 20,
     "metadata": {},
     "output_type": "execute_result"
    }
   ],
   "source": [
    "train_data.shape"
   ]
  },
  {
   "cell_type": "code",
   "execution_count": 21,
   "id": "f1aefd7f-1230-4ad8-afba-7713254a47f5",
   "metadata": {},
   "outputs": [
    {
     "data": {
      "text/html": [
       "<div>\n",
       "<style scoped>\n",
       "    .dataframe tbody tr th:only-of-type {\n",
       "        vertical-align: middle;\n",
       "    }\n",
       "\n",
       "    .dataframe tbody tr th {\n",
       "        vertical-align: top;\n",
       "    }\n",
       "\n",
       "    .dataframe thead th {\n",
       "        text-align: right;\n",
       "    }\n",
       "</style>\n",
       "<table border=\"1\" class=\"dataframe\">\n",
       "  <thead>\n",
       "    <tr style=\"text-align: right;\">\n",
       "      <th></th>\n",
       "      <th>id</th>\n",
       "      <th>age</th>\n",
       "      <th>sex</th>\n",
       "      <th>education</th>\n",
       "      <th>Valores CNN</th>\n",
       "    </tr>\n",
       "  </thead>\n",
       "  <tbody>\n",
       "    <tr>\n",
       "      <th>count</th>\n",
       "      <td>112.000000</td>\n",
       "      <td>112.000000</td>\n",
       "      <td>112.000000</td>\n",
       "      <td>112.000000</td>\n",
       "      <td>112.000000</td>\n",
       "    </tr>\n",
       "    <tr>\n",
       "      <th>mean</th>\n",
       "      <td>56.500000</td>\n",
       "      <td>44.312500</td>\n",
       "      <td>0.482143</td>\n",
       "      <td>2.732143</td>\n",
       "      <td>46.724739</td>\n",
       "    </tr>\n",
       "    <tr>\n",
       "      <th>std</th>\n",
       "      <td>32.475632</td>\n",
       "      <td>22.642156</td>\n",
       "      <td>0.501927</td>\n",
       "      <td>1.348888</td>\n",
       "      <td>18.300520</td>\n",
       "    </tr>\n",
       "    <tr>\n",
       "      <th>min</th>\n",
       "      <td>1.000000</td>\n",
       "      <td>13.000000</td>\n",
       "      <td>0.000000</td>\n",
       "      <td>0.000000</td>\n",
       "      <td>20.071806</td>\n",
       "    </tr>\n",
       "    <tr>\n",
       "      <th>25%</th>\n",
       "      <td>28.750000</td>\n",
       "      <td>20.000000</td>\n",
       "      <td>0.000000</td>\n",
       "      <td>2.000000</td>\n",
       "      <td>29.434330</td>\n",
       "    </tr>\n",
       "    <tr>\n",
       "      <th>50%</th>\n",
       "      <td>56.500000</td>\n",
       "      <td>51.500000</td>\n",
       "      <td>0.000000</td>\n",
       "      <td>3.000000</td>\n",
       "      <td>45.819145</td>\n",
       "    </tr>\n",
       "    <tr>\n",
       "      <th>75%</th>\n",
       "      <td>84.250000</td>\n",
       "      <td>65.250000</td>\n",
       "      <td>1.000000</td>\n",
       "      <td>4.000000</td>\n",
       "      <td>62.713944</td>\n",
       "    </tr>\n",
       "    <tr>\n",
       "      <th>max</th>\n",
       "      <td>112.000000</td>\n",
       "      <td>79.000000</td>\n",
       "      <td>1.000000</td>\n",
       "      <td>4.000000</td>\n",
       "      <td>84.877129</td>\n",
       "    </tr>\n",
       "  </tbody>\n",
       "</table>\n",
       "</div>"
      ],
      "text/plain": [
       "               id         age         sex   education  Valores CNN\n",
       "count  112.000000  112.000000  112.000000  112.000000   112.000000\n",
       "mean    56.500000   44.312500    0.482143    2.732143    46.724739\n",
       "std     32.475632   22.642156    0.501927    1.348888    18.300520\n",
       "min      1.000000   13.000000    0.000000    0.000000    20.071806\n",
       "25%     28.750000   20.000000    0.000000    2.000000    29.434330\n",
       "50%     56.500000   51.500000    0.000000    3.000000    45.819145\n",
       "75%     84.250000   65.250000    1.000000    4.000000    62.713944\n",
       "max    112.000000   79.000000    1.000000    4.000000    84.877129"
      ]
     },
     "execution_count": 21,
     "metadata": {},
     "output_type": "execute_result"
    }
   ],
   "source": [
    "train_data.describe()"
   ]
  },
  {
   "cell_type": "code",
   "execution_count": 22,
   "id": "ce954e75-8b62-4997-9c58-514e0270e1f2",
   "metadata": {},
   "outputs": [],
   "source": [
    "from sklearn import preprocessing\n",
    "min_max_scaler = preprocessing.MinMaxScaler(feature_range=(0,1))\n",
    "train_data[['Valores CNN']] = min_max_scaler.fit_transform(train_data[['Valores CNN']])"
   ]
  },
  {
   "cell_type": "code",
   "execution_count": 23,
   "id": "02352dfb-6627-44ba-b69b-55325e975282",
   "metadata": {},
   "outputs": [
    {
     "data": {
      "text/html": [
       "<div>\n",
       "<style scoped>\n",
       "    .dataframe tbody tr th:only-of-type {\n",
       "        vertical-align: middle;\n",
       "    }\n",
       "\n",
       "    .dataframe tbody tr th {\n",
       "        vertical-align: top;\n",
       "    }\n",
       "\n",
       "    .dataframe thead th {\n",
       "        text-align: right;\n",
       "    }\n",
       "</style>\n",
       "<table border=\"1\" class=\"dataframe\">\n",
       "  <thead>\n",
       "    <tr style=\"text-align: right;\">\n",
       "      <th></th>\n",
       "      <th>id</th>\n",
       "      <th>age</th>\n",
       "      <th>sex</th>\n",
       "      <th>education</th>\n",
       "      <th>Valores CNN</th>\n",
       "    </tr>\n",
       "  </thead>\n",
       "  <tbody>\n",
       "    <tr>\n",
       "      <th>count</th>\n",
       "      <td>112.000000</td>\n",
       "      <td>112.000000</td>\n",
       "      <td>112.000000</td>\n",
       "      <td>112.000000</td>\n",
       "      <td>112.000000</td>\n",
       "    </tr>\n",
       "    <tr>\n",
       "      <th>mean</th>\n",
       "      <td>56.500000</td>\n",
       "      <td>44.312500</td>\n",
       "      <td>0.482143</td>\n",
       "      <td>2.732143</td>\n",
       "      <td>0.411277</td>\n",
       "    </tr>\n",
       "    <tr>\n",
       "      <th>std</th>\n",
       "      <td>32.475632</td>\n",
       "      <td>22.642156</td>\n",
       "      <td>0.501927</td>\n",
       "      <td>1.348888</td>\n",
       "      <td>0.282392</td>\n",
       "    </tr>\n",
       "    <tr>\n",
       "      <th>min</th>\n",
       "      <td>1.000000</td>\n",
       "      <td>13.000000</td>\n",
       "      <td>0.000000</td>\n",
       "      <td>0.000000</td>\n",
       "      <td>0.000000</td>\n",
       "    </tr>\n",
       "    <tr>\n",
       "      <th>25%</th>\n",
       "      <td>28.750000</td>\n",
       "      <td>20.000000</td>\n",
       "      <td>0.000000</td>\n",
       "      <td>2.000000</td>\n",
       "      <td>0.144472</td>\n",
       "    </tr>\n",
       "    <tr>\n",
       "      <th>50%</th>\n",
       "      <td>56.500000</td>\n",
       "      <td>51.500000</td>\n",
       "      <td>0.000000</td>\n",
       "      <td>3.000000</td>\n",
       "      <td>0.397303</td>\n",
       "    </tr>\n",
       "    <tr>\n",
       "      <th>75%</th>\n",
       "      <td>84.250000</td>\n",
       "      <td>65.250000</td>\n",
       "      <td>1.000000</td>\n",
       "      <td>4.000000</td>\n",
       "      <td>0.658004</td>\n",
       "    </tr>\n",
       "    <tr>\n",
       "      <th>max</th>\n",
       "      <td>112.000000</td>\n",
       "      <td>79.000000</td>\n",
       "      <td>1.000000</td>\n",
       "      <td>4.000000</td>\n",
       "      <td>1.000000</td>\n",
       "    </tr>\n",
       "  </tbody>\n",
       "</table>\n",
       "</div>"
      ],
      "text/plain": [
       "               id         age         sex   education  Valores CNN\n",
       "count  112.000000  112.000000  112.000000  112.000000   112.000000\n",
       "mean    56.500000   44.312500    0.482143    2.732143     0.411277\n",
       "std     32.475632   22.642156    0.501927    1.348888     0.282392\n",
       "min      1.000000   13.000000    0.000000    0.000000     0.000000\n",
       "25%     28.750000   20.000000    0.000000    2.000000     0.144472\n",
       "50%     56.500000   51.500000    0.000000    3.000000     0.397303\n",
       "75%     84.250000   65.250000    1.000000    4.000000     0.658004\n",
       "max    112.000000   79.000000    1.000000    4.000000     1.000000"
      ]
     },
     "execution_count": 23,
     "metadata": {},
     "output_type": "execute_result"
    }
   ],
   "source": [
    "train_data.describe()"
   ]
  },
  {
   "cell_type": "code",
   "execution_count": 18,
   "id": "65913e3b-b561-48ca-8f34-98a8ad2d78ac",
   "metadata": {},
   "outputs": [
    {
     "name": "stdout",
     "output_type": "stream",
     "text": [
      "<class 'pandas.core.frame.DataFrame'>\n",
      "RangeIndex: 112 entries, 0 to 111\n",
      "Data columns (total 5 columns):\n",
      " #   Column       Non-Null Count  Dtype  \n",
      "---  ------       --------------  -----  \n",
      " 0   id           112 non-null    int64  \n",
      " 1   age          112 non-null    int64  \n",
      " 2   sex          112 non-null    int64  \n",
      " 3   education    112 non-null    int8   \n",
      " 4   Valores CNN  112 non-null    float32\n",
      "dtypes: float32(1), int64(3), int8(1)\n",
      "memory usage: 3.3 KB\n"
     ]
    }
   ],
   "source": [
    "train_data.info()"
   ]
  },
  {
   "cell_type": "code",
   "execution_count": 19,
   "id": "f7e9dddf-5d31-4c27-a329-f5c794028f2a",
   "metadata": {},
   "outputs": [
    {
     "name": "stdout",
     "output_type": "stream",
     "text": [
      "Model: \"sequential_1\"\n",
      "_________________________________________________________________\n",
      " Layer (type)                Output Shape              Param #   \n",
      "=================================================================\n",
      " dense_3 (Dense)             (None, 64)                320       \n",
      "                                                                 \n",
      " dense_4 (Dense)             (None, 128)               8320      \n",
      "                                                                 \n",
      " dense_5 (Dense)             (None, 128)               16512     \n",
      "                                                                 \n",
      " dense_6 (Dense)             (None, 64)                8256      \n",
      "                                                                 \n",
      " dense_7 (Dense)             (None, 1)                 65        \n",
      "                                                                 \n",
      "=================================================================\n",
      "Total params: 33,473\n",
      "Trainable params: 33,473\n",
      "Non-trainable params: 0\n",
      "_________________________________________________________________\n"
     ]
    }
   ],
   "source": [
    "model2 = Sequential()\n",
    "model2.add(Dense(64, activation='relu', input_shape=(4,)))\n",
    "model2.add(Dense(128, activation='relu'))\n",
    "model2.add(Dense(128, activation='relu'))\n",
    "model2.add(Dense(64, activation='relu'))\n",
    "model2.add(Dense(1, activation='relu'))\n",
    "\n",
    "model2.summary()"
   ]
  },
  {
   "cell_type": "code",
   "execution_count": 24,
   "id": "6424a3a4-5fd3-4593-88fb-639735b4700d",
   "metadata": {},
   "outputs": [
    {
     "data": {
      "image/png": "[encoded data removed]",
      "text/plain": [
       "<Figure size 864x576 with 2 Axes>"
      ]
     },
     "metadata": {
      "needs_background": "light"
     },
     "output_type": "display_data"
    },
    {
     "name": "stdout",
     "output_type": "stream",
     "text": [
      "Loss\n",
      "\ttraining         \t (min:  103.228, max: 1980.099, cur:  103.228)\n",
      "\tvalidation       \t (min:   73.772, max: 3402.758, cur:  255.746)\n",
      "mean_absolute_percentage_error\n",
      "\ttraining         \t (min:   23.978, max:   96.768, cur:   25.163)\n",
      "\tvalidation       \t (min:   10.881, max:   86.808, cur:   22.533)\n",
      "1/1 [==============================] - 0s 336ms/step - loss: 103.2278 - mean_absolute_percentage_error: 25.1629 - val_loss: 255.7464 - val_mean_absolute_percentage_error: 22.5326\n"
     ]
    }
   ],
   "source": [
    "model2.compile(optimizer='adam', loss='mean_squared_error', metrics='mean_absolute_percentage_error')\n",
    "\n",
    "x_train = train_data.drop(['age'], axis=1)\n",
    "y_train = train_data['age']\n",
    "\n",
    "history2 = model2.fit(x_train, y_train, epochs=100, batch_size=256,validation_split=0.15, callbacks=[PlotLossesCallback()])"
   ]
  },
  {
   "cell_type": "markdown",
   "id": "45acf53b-e9f5-48a4-8025-f564a46cc716",
   "metadata": {},
   "source": [
    "# Resultados com model e o modelo2"
   ]
  },
  {
   "cell_type": "code",
   "execution_count": 25,
   "id": "5f420aeb-ea9b-4024-88e6-7f0c85ca11f6",
   "metadata": {},
   "outputs": [
    {
     "name": "stdout",
     "output_type": "stream",
     "text": [
      "Evaluate Teste com o model (CNN)\n",
      "[[ 58.27995 ]\n",
      " [ 66.62733 ]\n",
      " [ 59.77291 ]\n",
      " [ 55.50128 ]\n",
      " [ 54.10523 ]\n",
      " [ 53.839634]\n",
      " [132.5967  ]\n",
      " [ 96.740456]\n",
      " [111.22543 ]\n",
      " [112.3863  ]\n",
      " [117.449745]\n",
      " [122.2254  ]\n",
      " [129.3531  ]\n",
      " [101.38414 ]\n",
      " [ 56.91865 ]\n",
      " [ 76.6437  ]\n",
      " [ 55.015667]\n",
      " [ 73.34239 ]\n",
      " [ 66.089294]\n",
      " [ 63.191517]\n",
      " [130.93274 ]\n",
      " [ 92.33062 ]\n",
      " [114.83259 ]\n",
      " [140.66414 ]\n",
      " [116.1852  ]\n",
      " [113.510345]\n",
      " [106.90061 ]\n",
      " [ 93.4655  ]]\n"
     ]
    }
   ],
   "source": [
    "print(\"Evaluate Teste com o model (CNN)\")\n",
    "teste_mat = tf.expand_dims(test_mat, axis=-1)\n",
    "result = model.predict(teste_mat)\n",
    "\n",
    "valores = []\n",
    "for x in result:\n",
    "    for y in x:\n",
    "        valores.append(y)\n",
    "        \n",
    "test_data['Valores CNN'] = valores\n",
    "\n",
    "result = model2.predict(test_data)\n",
    "print(result)"
   ]
  },
  {
   "cell_type": "markdown",
   "id": "6e3fe51c-7257-4f2e-9a3e-662bb50ea9de",
   "metadata": {},
   "source": [
    "# Prepare submission"
   ]
  },
  {
   "cell_type": "code",
   "execution_count": 26,
   "id": "3cb0c8cb-d186-478f-aa21-358b3e81c7dd",
   "metadata": {},
   "outputs": [],
   "source": [
    "import math\n",
    "with open(\"submissaoCarlos.csv\", \"w\") as sub:\n",
    "    # Writing data to a file\n",
    "    sub.write('id,age\\n')\n",
    "    for i in test_data['id']:\n",
    "        sub.write(str(i)+','+str(result[i-1][0])+'\\n')\n",
    "    "
   ]
  },
  {
   "cell_type": "code",
   "execution_count": null,
   "id": "186b8ba4-2e4d-4b0f-be3c-1400b63148f5",
   "metadata": {},
   "outputs": [],
   "source": []
  }
 ],
 "metadata": {
  "kernelspec": {
   "display_name": "Python 3 (ipykernel)",
   "language": "python",
   "name": "python3"
  },
  "language_info": {
   "codemirror_mode": {
    "name": "ipython",
    "version": 3
   },
   "file_extension": ".py",
   "mimetype": "text/x-python",
   "name": "python",
   "nbconvert_exporter": "python",
   "pygments_lexer": "ipython3",
   "version": "3.8.12"
  }
 },
 "nbformat": 4,
 "nbformat_minor": 5
}
