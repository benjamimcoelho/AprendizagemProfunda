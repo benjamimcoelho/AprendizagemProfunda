{
 "cells": [
  {
   "cell_type": "markdown",
   "id": "b90075d6-7560-45cf-9b5d-2075c092d363",
   "metadata": {},
   "source": [
    "# Importar dados"
   ]
  },
  {
   "cell_type": "code",
   "execution_count": 1,
   "id": "8b807769-054b-445b-82a6-58333d43939b",
   "metadata": {},
   "outputs": [],
   "source": [
    "import pandas as pd\n",
    "train_data = pd.read_csv(r'../data/train.csv')\n",
    "test_data = pd.read_csv(r'../data/test.csv')"
   ]
  },
  {
   "cell_type": "code",
   "execution_count": 2,
   "id": "f39dd2ab-4f80-4d62-8b6e-bddcd7240f55",
   "metadata": {},
   "outputs": [
    {
     "data": {
      "text/plain": [
       "(112, 4)"
      ]
     },
     "execution_count": 2,
     "metadata": {},
     "output_type": "execute_result"
    }
   ],
   "source": [
    "train_data.shape"
   ]
  },
  {
   "cell_type": "markdown",
   "id": "fa0061ff-cfd0-4dad-a13c-87ecbc291305",
   "metadata": {},
   "source": [
    "# Analisar Dados"
   ]
  },
  {
   "cell_type": "code",
   "execution_count": 3,
   "id": "b7fb1706-7e7a-4569-bd29-a0210115cf20",
   "metadata": {},
   "outputs": [
    {
     "name": "stdout",
     "output_type": "stream",
     "text": [
      "<class 'pandas.core.frame.DataFrame'>\n",
      "RangeIndex: 112 entries, 0 to 111\n",
      "Data columns (total 4 columns):\n",
      " #   Column     Non-Null Count  Dtype\n",
      "---  ------     --------------  -----\n",
      " 0   id         112 non-null    int64\n",
      " 1   age        112 non-null    int64\n",
      " 2   sex        112 non-null    int64\n",
      " 3   education  112 non-null    int64\n",
      "dtypes: int64(4)\n",
      "memory usage: 3.6 KB\n"
     ]
    }
   ],
   "source": [
    "train_data.info()"
   ]
  },
  {
   "cell_type": "code",
   "execution_count": 4,
   "id": "f4507f93-2d58-4ca9-bc26-93dd129cdb28",
   "metadata": {},
   "outputs": [
    {
     "data": {
      "text/html": [
       "<div>\n",
       "<style scoped>\n",
       "    .dataframe tbody tr th:only-of-type {\n",
       "        vertical-align: middle;\n",
       "    }\n",
       "\n",
       "    .dataframe tbody tr th {\n",
       "        vertical-align: top;\n",
       "    }\n",
       "\n",
       "    .dataframe thead th {\n",
       "        text-align: right;\n",
       "    }\n",
       "</style>\n",
       "<table border=\"1\" class=\"dataframe\">\n",
       "  <thead>\n",
       "    <tr style=\"text-align: right;\">\n",
       "      <th></th>\n",
       "      <th>id</th>\n",
       "      <th>age</th>\n",
       "      <th>sex</th>\n",
       "      <th>education</th>\n",
       "    </tr>\n",
       "  </thead>\n",
       "  <tbody>\n",
       "    <tr>\n",
       "      <th>count</th>\n",
       "      <td>112.000000</td>\n",
       "      <td>112.000000</td>\n",
       "      <td>112.000000</td>\n",
       "      <td>112.000000</td>\n",
       "    </tr>\n",
       "    <tr>\n",
       "      <th>mean</th>\n",
       "      <td>56.500000</td>\n",
       "      <td>44.312500</td>\n",
       "      <td>0.482143</td>\n",
       "      <td>9.035714</td>\n",
       "    </tr>\n",
       "    <tr>\n",
       "      <th>std</th>\n",
       "      <td>32.475632</td>\n",
       "      <td>22.642156</td>\n",
       "      <td>0.501927</td>\n",
       "      <td>4.909870</td>\n",
       "    </tr>\n",
       "    <tr>\n",
       "      <th>min</th>\n",
       "      <td>1.000000</td>\n",
       "      <td>13.000000</td>\n",
       "      <td>0.000000</td>\n",
       "      <td>0.000000</td>\n",
       "    </tr>\n",
       "    <tr>\n",
       "      <th>25%</th>\n",
       "      <td>28.750000</td>\n",
       "      <td>20.000000</td>\n",
       "      <td>0.000000</td>\n",
       "      <td>4.000000</td>\n",
       "    </tr>\n",
       "    <tr>\n",
       "      <th>50%</th>\n",
       "      <td>56.500000</td>\n",
       "      <td>51.500000</td>\n",
       "      <td>0.000000</td>\n",
       "      <td>9.000000</td>\n",
       "    </tr>\n",
       "    <tr>\n",
       "      <th>75%</th>\n",
       "      <td>84.250000</td>\n",
       "      <td>65.250000</td>\n",
       "      <td>1.000000</td>\n",
       "      <td>12.000000</td>\n",
       "    </tr>\n",
       "    <tr>\n",
       "      <th>max</th>\n",
       "      <td>112.000000</td>\n",
       "      <td>79.000000</td>\n",
       "      <td>1.000000</td>\n",
       "      <td>20.000000</td>\n",
       "    </tr>\n",
       "  </tbody>\n",
       "</table>\n",
       "</div>"
      ],
      "text/plain": [
       "               id         age         sex   education\n",
       "count  112.000000  112.000000  112.000000  112.000000\n",
       "mean    56.500000   44.312500    0.482143    9.035714\n",
       "std     32.475632   22.642156    0.501927    4.909870\n",
       "min      1.000000   13.000000    0.000000    0.000000\n",
       "25%     28.750000   20.000000    0.000000    4.000000\n",
       "50%     56.500000   51.500000    0.000000    9.000000\n",
       "75%     84.250000   65.250000    1.000000   12.000000\n",
       "max    112.000000   79.000000    1.000000   20.000000"
      ]
     },
     "execution_count": 4,
     "metadata": {},
     "output_type": "execute_result"
    }
   ],
   "source": [
    "train_data.describe()"
   ]
  },
  {
   "cell_type": "code",
   "execution_count": 5,
   "id": "04e69f9f-019e-4ab0-87ab-262ce071d81c",
   "metadata": {},
   "outputs": [
    {
     "data": {
      "text/html": [
       "<div>\n",
       "<style scoped>\n",
       "    .dataframe tbody tr th:only-of-type {\n",
       "        vertical-align: middle;\n",
       "    }\n",
       "\n",
       "    .dataframe tbody tr th {\n",
       "        vertical-align: top;\n",
       "    }\n",
       "\n",
       "    .dataframe thead th {\n",
       "        text-align: right;\n",
       "    }\n",
       "</style>\n",
       "<table border=\"1\" class=\"dataframe\">\n",
       "  <thead>\n",
       "    <tr style=\"text-align: right;\">\n",
       "      <th></th>\n",
       "      <th>id</th>\n",
       "      <th>age</th>\n",
       "      <th>sex</th>\n",
       "      <th>education</th>\n",
       "    </tr>\n",
       "  </thead>\n",
       "  <tbody>\n",
       "    <tr>\n",
       "      <th>0</th>\n",
       "      <td>1</td>\n",
       "      <td>13</td>\n",
       "      <td>1</td>\n",
       "      <td>7</td>\n",
       "    </tr>\n",
       "    <tr>\n",
       "      <th>1</th>\n",
       "      <td>2</td>\n",
       "      <td>14</td>\n",
       "      <td>0</td>\n",
       "      <td>8</td>\n",
       "    </tr>\n",
       "    <tr>\n",
       "      <th>2</th>\n",
       "      <td>3</td>\n",
       "      <td>15</td>\n",
       "      <td>1</td>\n",
       "      <td>9</td>\n",
       "    </tr>\n",
       "    <tr>\n",
       "      <th>3</th>\n",
       "      <td>4</td>\n",
       "      <td>15</td>\n",
       "      <td>1</td>\n",
       "      <td>9</td>\n",
       "    </tr>\n",
       "    <tr>\n",
       "      <th>4</th>\n",
       "      <td>5</td>\n",
       "      <td>15</td>\n",
       "      <td>1</td>\n",
       "      <td>9</td>\n",
       "    </tr>\n",
       "  </tbody>\n",
       "</table>\n",
       "</div>"
      ],
      "text/plain": [
       "   id  age  sex  education\n",
       "0   1   13    1          7\n",
       "1   2   14    0          8\n",
       "2   3   15    1          9\n",
       "3   4   15    1          9\n",
       "4   5   15    1          9"
      ]
     },
     "execution_count": 5,
     "metadata": {},
     "output_type": "execute_result"
    }
   ],
   "source": [
    "#fig = plt.figure(figsize = (20,5))\n",
    "#ax = fig.gca()\n",
    "#train_data['education'].hist(ax = ax)\n",
    "train_data.head()"
   ]
  },
  {
   "cell_type": "code",
   "execution_count": 6,
   "id": "94b7d0b3-825c-4124-a47c-d26b309b252c",
   "metadata": {},
   "outputs": [
    {
     "data": {
      "image/png": "[encoded data removed]",
      "text/plain": [
       "<Figure size 432x288 with 1 Axes>"
      ]
     },
     "metadata": {
      "needs_background": "light"
     },
     "output_type": "display_data"
    }
   ],
   "source": [
    "#train_data.isna().any()\n",
    "\n",
    "import seaborn as sns\n",
    "#sns.histplot(train_data['age'], kde='True')\n",
    "#sns.histplot(train_data['sex'], kde='True')\n",
    "sns.histplot(train_data['age'], kde='True')\n",
    "\n",
    "#sns.boxplot(x=train_data['age'])\n",
    "#sns.boxplot(x=train_data['sex'])\n",
    "#sns.boxplot(x=train_data['education'])\n",
    "\n",
    "import matplotlib.pyplot as plt\n",
    "#corr_matrix = train_data.corr()\n",
    "#f, ax = plt.subplots(figsize=(8,6))\n",
    "#sns.heatmap(corr_matrix, vmin=1, vmax=1, square=True, annot=True)"
   ]
  },
  {
   "cell_type": "markdown",
   "id": "3bb3fb71-41ee-4c53-a9ed-604e226feba3",
   "metadata": {},
   "source": [
    "# Tratar Dados"
   ]
  },
  {
   "cell_type": "code",
   "execution_count": 7,
   "id": "45377377-53b0-4c05-bf6d-9581cc69750b",
   "metadata": {},
   "outputs": [],
   "source": [
    "age_train = []\n",
    "for ar in zip(train_data['age']):\n",
    "    age = ar[0]\n",
    "    if age < 31:\n",
    "        age_train.append(0)\n",
    "    elif age < 56:\n",
    "        age_train.append(1)\n",
    "    elif age < 63:\n",
    "        age_train.append(2)\n",
    "    elif age < 72:\n",
    "        age_train.append(3)\n",
    "    else:\n",
    "        age_train.append(4)\n",
    "\n",
    "\n",
    "train_data['age'] = age_train"
   ]
  },
  {
   "cell_type": "code",
   "execution_count": null,
   "id": "0544b0db-6d7d-4808-99d7-95f5a8affe3d",
   "metadata": {},
   "outputs": [],
   "source": []
  },
  {
   "cell_type": "code",
   "execution_count": 8,
   "id": "c1ef3b9e-f3e1-42bc-aa60-2a7fa7af171e",
   "metadata": {},
   "outputs": [
    {
     "data": {
      "text/html": [
       "<div>\n",
       "<style scoped>\n",
       "    .dataframe tbody tr th:only-of-type {\n",
       "        vertical-align: middle;\n",
       "    }\n",
       "\n",
       "    .dataframe tbody tr th {\n",
       "        vertical-align: top;\n",
       "    }\n",
       "\n",
       "    .dataframe thead th {\n",
       "        text-align: right;\n",
       "    }\n",
       "</style>\n",
       "<table border=\"1\" class=\"dataframe\">\n",
       "  <thead>\n",
       "    <tr style=\"text-align: right;\">\n",
       "      <th></th>\n",
       "      <th>id</th>\n",
       "      <th>age</th>\n",
       "      <th>sex</th>\n",
       "      <th>education</th>\n",
       "    </tr>\n",
       "  </thead>\n",
       "  <tbody>\n",
       "    <tr>\n",
       "      <th>0</th>\n",
       "      <td>1</td>\n",
       "      <td>0</td>\n",
       "      <td>1</td>\n",
       "      <td>7</td>\n",
       "    </tr>\n",
       "    <tr>\n",
       "      <th>1</th>\n",
       "      <td>2</td>\n",
       "      <td>0</td>\n",
       "      <td>0</td>\n",
       "      <td>8</td>\n",
       "    </tr>\n",
       "    <tr>\n",
       "      <th>2</th>\n",
       "      <td>3</td>\n",
       "      <td>0</td>\n",
       "      <td>1</td>\n",
       "      <td>9</td>\n",
       "    </tr>\n",
       "    <tr>\n",
       "      <th>3</th>\n",
       "      <td>4</td>\n",
       "      <td>0</td>\n",
       "      <td>1</td>\n",
       "      <td>9</td>\n",
       "    </tr>\n",
       "    <tr>\n",
       "      <th>4</th>\n",
       "      <td>5</td>\n",
       "      <td>0</td>\n",
       "      <td>1</td>\n",
       "      <td>9</td>\n",
       "    </tr>\n",
       "  </tbody>\n",
       "</table>\n",
       "</div>"
      ],
      "text/plain": [
       "   id  age  sex  education\n",
       "0   1    0    1          7\n",
       "1   2    0    0          8\n",
       "2   3    0    1          9\n",
       "3   4    0    1          9\n",
       "4   5    0    1          9"
      ]
     },
     "execution_count": 8,
     "metadata": {},
     "output_type": "execute_result"
    }
   ],
   "source": [
    "train_data.head()"
   ]
  },
  {
   "cell_type": "markdown",
   "id": "8da9543c-dd75-4cf5-bf5e-988a18b97b9a",
   "metadata": {
    "tags": []
   },
   "source": [
    "# Visualisar os dados"
   ]
  },
  {
   "cell_type": "code",
   "execution_count": 9,
   "id": "affcc6da-e957-4804-a8a4-1f522c35c7a1",
   "metadata": {},
   "outputs": [
    {
     "name": "stdout",
     "output_type": "stream",
     "text": [
      "[[[0.         0.         0.         ... 0.         0.         0.        ]\n",
      "  [0.         0.         0.         ... 0.         0.         0.        ]\n",
      "  [0.13152513 0.11770353 0.15580596 ... 0.11608478 0.15665442 0.11458643]\n",
      "  ...\n",
      "  [0.         0.         0.         ... 0.         0.         0.        ]\n",
      "  [0.         0.         0.         ... 0.02631835 0.01242944 0.        ]\n",
      "  [0.         0.         0.         ... 0.         0.         0.        ]]\n",
      "\n",
      " [[0.         0.         0.         ... 0.         0.         0.        ]\n",
      "  [0.         0.         0.         ... 0.         0.         0.        ]\n",
      "  [0.         0.         0.         ... 0.         0.         0.        ]\n",
      "  ...\n",
      "  [0.         0.         0.         ... 0.         0.         0.        ]\n",
      "  [0.         0.         0.         ... 0.         0.         0.        ]\n",
      "  [0.         0.         0.         ... 0.01770987 0.         0.        ]]\n",
      "\n",
      " [[0.13152513 0.11770353 0.15580596 ... 0.11608478 0.15665442 0.11458643]\n",
      "  [0.         0.         0.         ... 0.         0.         0.        ]\n",
      "  [0.         0.         0.         ... 0.         0.         0.        ]\n",
      "  ...\n",
      "  [0.         0.         0.         ... 0.         0.         0.        ]\n",
      "  [0.         0.         0.         ... 0.         0.         0.        ]\n",
      "  [0.         0.         0.         ... 0.         0.         0.        ]]\n",
      "\n",
      " ...\n",
      "\n",
      " [[0.         0.         0.         ... 0.         0.         0.        ]\n",
      "  [0.         0.         0.         ... 0.         0.         0.        ]\n",
      "  [0.         0.         0.         ... 0.         0.         0.        ]\n",
      "  ...\n",
      "  [0.         0.         0.         ... 0.         0.         0.        ]\n",
      "  [0.         0.         0.         ... 0.         0.         0.        ]\n",
      "  [0.28060623 0.20747819 0.24647168 ... 0.24678357 0.2162594  0.27481224]]\n",
      "\n",
      " [[0.         0.         0.         ... 0.02631835 0.01242944 0.        ]\n",
      "  [0.         0.         0.         ... 0.         0.         0.        ]\n",
      "  [0.         0.         0.         ... 0.         0.         0.        ]\n",
      "  ...\n",
      "  [0.         0.         0.         ... 0.         0.         0.        ]\n",
      "  [0.         0.         0.         ... 0.         0.         0.        ]\n",
      "  [0.         0.         0.         ... 0.         0.         0.        ]]\n",
      "\n",
      " [[0.         0.         0.         ... 0.         0.         0.        ]\n",
      "  [0.         0.         0.         ... 0.01770987 0.         0.        ]\n",
      "  [0.         0.         0.         ... 0.         0.         0.        ]\n",
      "  ...\n",
      "  [0.28060623 0.20747819 0.24647168 ... 0.24678357 0.2162594  0.27481224]\n",
      "  [0.         0.         0.         ... 0.         0.         0.        ]\n",
      "  [0.         0.         0.         ... 0.         0.         0.        ]]]\n"
     ]
    }
   ],
   "source": [
    "import numpy as np\n",
    "import scipy.io\n",
    "\n",
    "mat = scipy.io.loadmat('../data/train_data.mat')\n",
    "\n",
    "X = mat[\"train_data\"]\n",
    "print(X)"
   ]
  },
  {
   "cell_type": "code",
   "execution_count": 10,
   "id": "258fbe2e-e627-4886-8b74-6c14ac537b1c",
   "metadata": {},
   "outputs": [
    {
     "data": {
      "image/png": "[encoded data removed]",
      "text/plain": [
       "<Figure size 432x288 with 1 Axes>"
      ]
     },
     "metadata": {
      "needs_background": "light"
     },
     "output_type": "display_data"
    }
   ],
   "source": [
    "#todos\n",
    "import matplotlib.pyplot as plt\n",
    "from mpl_toolkits.mplot3d import Axes3D\n",
    "fig = plt.figure()\n",
    "ax = fig.add_subplot(111, projection='3d')\n",
    "\n",
    "z,x,y = X.nonzero()\n",
    "            \n",
    "ax.scatter(x, y, -z, zdir='z', c= 'red')\n",
    "plt.show()"
   ]
  },
  {
   "cell_type": "code",
   "execution_count": 11,
   "id": "330ad2bb-db2f-4cb3-9114-ec36e2c80387",
   "metadata": {},
   "outputs": [
    {
     "data": {
      "text/plain": [
       "[<matplotlib.lines.Line2D at 0x1fab3762e80>]"
      ]
     },
     "execution_count": 11,
     "metadata": {},
     "output_type": "execute_result"
    },
    {
     "data": {
      "image/png": "[encoded data removed]",
      "text/plain": [
       "<Figure size 432x288 with 1 Axes>"
      ]
     },
     "metadata": {
      "needs_background": "light"
     },
     "output_type": "display_data"
    }
   ],
   "source": [
    "#Exemplo 1 pessoa\n",
    "store = []\n",
    "for i in range(90):\n",
    "    for j in range (90):\n",
    "        store.append(X[i][j][15])\n",
    "        #print(X[i][j][0])\n",
    "        \n",
    "plt.plot(store)"
   ]
  },
  {
   "cell_type": "markdown",
   "id": "8f30a87c-553d-4e52-af39-46f7d3f32279",
   "metadata": {
    "tags": []
   },
   "source": [
    "# Importar matrizes de conectividade"
   ]
  },
  {
   "cell_type": "code",
   "execution_count": 12,
   "id": "f2ce6d8e-f724-4965-aedb-d81de7639122",
   "metadata": {},
   "outputs": [
    {
     "name": "stdout",
     "output_type": "stream",
     "text": [
      "dict_keys(['__header__', '__version__', '__globals__', 'train_data'])\n",
      "dict_keys(['__header__', '__version__', '__globals__', 'test_data'])\n",
      "(112, 90, 90)\n",
      "(28, 90, 90)\n"
     ]
    }
   ],
   "source": [
    "def get_data_from_mat(train_file,test_file):\n",
    "    train_mat = scipy.io.loadmat(train_file) \n",
    "    test_mat = scipy.io.loadmat(test_file) \n",
    "    print(train_mat.keys())\n",
    "    print(test_mat.keys())\n",
    "    train_np = np.array(train_mat['train_data']).transpose(2,0,1)\n",
    "    test_np = np.array(test_mat['test_data']).transpose(2,0,1)\n",
    "    print(train_np.shape)\n",
    "    print(test_np.shape)\n",
    "    return  train_np, test_np\n",
    "\n",
    "\n",
    "train_mat, test_mat = get_data_from_mat('../data/train_data.mat','../data/test_data.mat')"
   ]
  },
  {
   "cell_type": "markdown",
   "id": "f786433e-f706-4d1a-9bd5-fbd775f97cb1",
   "metadata": {},
   "source": [
    "# Treinar o modelo 1 - Utilizar os dados das matrizes e apenas as labels do csv\n"
   ]
  },
  {
   "cell_type": "code",
   "execution_count": 13,
   "id": "e0d1f043-f956-432c-b325-ed2eea3eef77",
   "metadata": {},
   "outputs": [
    {
     "name": "stdout",
     "output_type": "stream",
     "text": [
      "[name: \"/device:CPU:0\"\n",
      "device_type: \"CPU\"\n",
      "memory_limit: 268435456\n",
      "locality {\n",
      "}\n",
      "incarnation: 3618818927961877326\n",
      ", name: \"/device:GPU:0\"\n",
      "device_type: \"GPU\"\n",
      "memory_limit: 4160159744\n",
      "locality {\n",
      "  bus_id: 1\n",
      "  links {\n",
      "  }\n",
      "}\n",
      "incarnation: 11852619656059565700\n",
      "physical_device_desc: \"device: 0, name: NVIDIA GeForce RTX 2060, pci bus id: 0000:01:00.0, compute capability: 7.5\"\n",
      "]\n"
     ]
    }
   ],
   "source": [
    "import tensorflow as tf\n",
    "import tensorflow.keras.backend as K\n",
    "from tensorflow.python.client import device_lib\n",
    "print(device_lib.list_local_devices())"
   ]
  },
  {
   "cell_type": "code",
   "execution_count": 16,
   "id": "95333293-973a-4322-9de0-3a0a862e11ed",
   "metadata": {},
   "outputs": [
    {
     "name": "stdout",
     "output_type": "stream",
     "text": [
      "Model: \"sequential_2\"\n",
      "_________________________________________________________________\n",
      "Layer (type)                 Output Shape              Param #   \n",
      "=================================================================\n",
      "conv2d_6 (Conv2D)            (None, 88, 88, 64)        640       \n",
      "_________________________________________________________________\n",
      "max_pooling2d_4 (MaxPooling2 (None, 44, 44, 64)        0         \n",
      "_________________________________________________________________\n",
      "conv2d_7 (Conv2D)            (None, 42, 42, 128)       73856     \n",
      "_________________________________________________________________\n",
      "max_pooling2d_5 (MaxPooling2 (None, 21, 21, 128)       0         \n",
      "_________________________________________________________________\n",
      "conv2d_8 (Conv2D)            (None, 19, 19, 128)       147584    \n",
      "_________________________________________________________________\n",
      "flatten_2 (Flatten)          (None, 46208)             0         \n",
      "_________________________________________________________________\n",
      "dense_6 (Dense)              (None, 64)                2957376   \n",
      "_________________________________________________________________\n",
      "dropout_6 (Dropout)          (None, 64)                0         \n",
      "_________________________________________________________________\n",
      "dense_7 (Dense)              (None, 32)                2080      \n",
      "_________________________________________________________________\n",
      "dropout_7 (Dropout)          (None, 32)                0         \n",
      "_________________________________________________________________\n",
      "dense_8 (Dense)              (None, 5)                 165       \n",
      "=================================================================\n",
      "Total params: 3,181,701\n",
      "Trainable params: 3,181,701\n",
      "Non-trainable params: 0\n",
      "_________________________________________________________________\n"
     ]
    }
   ],
   "source": [
    "from tensorflow import keras\n",
    "from tensorflow.keras.models import Sequential\n",
    "from tensorflow.keras.layers import Conv2D,MaxPooling2D,Flatten, Dense, Embedding, BatchNormalization, Dropout\n",
    "from livelossplot.inputs.tf_keras import PlotLossesCallback\n",
    "from tensorflow.keras.initializers import RandomNormal, Constant\n",
    "\n",
    "y_train = train_data['age']\n",
    "x_train = train_mat\n",
    "x_train = tf.expand_dims(x_train, axis=-1)\n",
    "\n",
    "model = Sequential()\n",
    "model.add(Conv2D(128, (3, 3), activation='relu', input_shape=(90,90,1)))\n",
    "model.add(MaxPooling2D((2, 2)))\n",
    "model.add(Conv2D(256, (3, 3), activation='relu'))\n",
    "model.add(MaxPooling2D((2, 2)))\n",
    "model.add(Conv2D(256, (3, 3), activation='relu'))\n",
    "model.add(Flatten())\n",
    "model.add(Dense(256, activation='relu'))\n",
    "model.add(Dropout(.2))\n",
    "model.add(Dense(256, activation='relu'))\n",
    "model.add(Dropout(.2))\n",
    "model.add(Dense(5,activation='softmax'))\n",
    "\n",
    "model.summary()"
   ]
  },
  {
   "cell_type": "code",
   "execution_count": 17,
   "id": "c036f015-b49b-461f-a058-a26796323d9f",
   "metadata": {},
   "outputs": [
    {
     "data": {
      "image/png": "[encoded data removed]",
      "text/plain": [
       "<Figure size 864x576 with 2 Axes>"
      ]
     },
     "metadata": {
      "needs_background": "light"
     },
     "output_type": "display_data"
    },
    {
     "name": "stdout",
     "output_type": "stream",
     "text": [
      "accuracy\n",
      "\ttraining         \t (min:    0.281, max:    0.876, cur:    0.764)\n",
      "\tvalidation       \t (min:    0.000, max:    0.435, cur:    0.348)\n",
      "Loss\n",
      "\ttraining         \t (min:    0.352, max:    1.585, cur:    0.520)\n",
      "\tvalidation       \t (min:    1.495, max:    2.469, cur:    1.497)\n"
     ]
    }
   ],
   "source": [
    "model.compile(optimizer='adam', loss='sparse_categorical_crossentropy', metrics='accuracy')\n",
    "\n",
    "\n",
    "\n",
    "\n",
    "\n",
    "history = model.fit(x_train, y_train, epochs=100, batch_size=64, validation_split=0.2, callbacks=[PlotLossesCallback()])"
   ]
  },
  {
   "cell_type": "markdown",
   "id": "d0771033-19f1-408a-abd4-5dae995dc2e5",
   "metadata": {},
   "source": [
    "# Aplicar o modelo às matrizes de treino"
   ]
  },
  {
   "cell_type": "code",
   "execution_count": 15,
   "id": "e63137e4-8cba-4889-9c8f-e2dd5b6e0d77",
   "metadata": {},
   "outputs": [
    {
     "name": "stdout",
     "output_type": "stream",
     "text": [
      "Evaluate\n",
      "[[15.029712]\n",
      " [12.308681]\n",
      " [15.902021]\n",
      " [13.10523 ]\n",
      " [17.874907]\n",
      " [16.663433]\n",
      " [28.426003]\n",
      " [15.937349]\n",
      " [16.854158]\n",
      " [21.20642 ]\n",
      " [17.96525 ]\n",
      " [14.974927]\n",
      " [14.203675]\n",
      " [20.06604 ]\n",
      " [10.713057]\n",
      " [16.628119]\n",
      " [11.261007]\n",
      " [17.605549]\n",
      " [24.595434]\n",
      " [13.941246]\n",
      " [21.17478 ]\n",
      " [15.526663]\n",
      " [17.095148]\n",
      " [16.368793]\n",
      " [20.948679]\n",
      " [20.551867]\n",
      " [31.437056]\n",
      " [17.605097]\n",
      " [38.138   ]\n",
      " [25.362238]\n",
      " [29.092852]\n",
      " [24.884857]\n",
      " [16.175945]\n",
      " [20.699335]\n",
      " [23.897657]\n",
      " [14.156448]\n",
      " [23.56775 ]\n",
      " [15.352959]\n",
      " [20.142193]\n",
      " [25.45534 ]\n",
      " [21.396494]\n",
      " [19.848576]\n",
      " [19.877607]\n",
      " [39.622738]\n",
      " [29.486687]\n",
      " [21.864592]\n",
      " [23.767735]\n",
      " [27.476313]\n",
      " [25.30345 ]\n",
      " [13.750458]\n",
      " [15.818333]\n",
      " [20.710283]\n",
      " [25.387796]\n",
      " [15.238722]\n",
      " [22.154196]\n",
      " [62.44465 ]\n",
      " [52.07926 ]\n",
      " [69.048904]\n",
      " [41.44031 ]\n",
      " [71.14808 ]\n",
      " [57.653805]\n",
      " [50.21422 ]\n",
      " [50.36529 ]\n",
      " [64.28867 ]\n",
      " [55.700005]\n",
      " [69.63605 ]\n",
      " [53.91252 ]\n",
      " [62.381382]\n",
      " [56.006485]\n",
      " [77.576584]\n",
      " [58.12479 ]\n",
      " [60.506683]\n",
      " [67.07496 ]\n",
      " [56.221134]\n",
      " [58.95006 ]\n",
      " [63.96398 ]\n",
      " [59.814053]\n",
      " [52.87013 ]\n",
      " [67.721115]\n",
      " [75.39183 ]\n",
      " [49.26962 ]\n",
      " [53.202168]\n",
      " [51.897297]\n",
      " [50.540783]\n",
      " [61.18202 ]\n",
      " [60.773476]\n",
      " [61.585423]\n",
      " [76.10071 ]\n",
      " [56.737164]\n",
      " [48.988735]\n",
      " [69.64116 ]\n",
      " [50.787556]\n",
      " [48.89358 ]\n",
      " [73.3557  ]\n",
      " [56.23523 ]\n",
      " [59.617264]\n",
      " [75.39514 ]\n",
      " [43.324543]\n",
      " [41.62489 ]\n",
      " [54.76365 ]\n",
      " [35.24193 ]\n",
      " [53.437176]\n",
      " [56.693207]\n",
      " [41.843056]\n",
      " [73.08515 ]\n",
      " [43.45809 ]\n",
      " [52.067802]\n",
      " [81.127975]\n",
      " [71.57427 ]\n",
      " [72.76994 ]\n",
      " [60.31937 ]\n",
      " [69.18066 ]]\n"
     ]
    }
   ],
   "source": [
    "print(\"Evaluate\")\n",
    "train_mat = tf.expand_dims(train_mat, axis=-1)\n",
    "result = model.predict(train_mat)\n",
    "print(result)"
   ]
  },
  {
   "cell_type": "markdown",
   "id": "fdb2f28b-c028-4ec7-8d4b-ae7bf95df56d",
   "metadata": {},
   "source": [
    "# Treinar o modelo 2 - com os dados todos do csv mais os resultados do primeiro treino"
   ]
  },
  {
   "cell_type": "code",
   "execution_count": 33,
   "id": "7cd8c80e-64ff-4ee2-ae9c-53f324e21957",
   "metadata": {},
   "outputs": [],
   "source": [
    "result = pd.DataFrame(result,columns=['RMage'])\n",
    "train_data['RMage']=result\n",
    "\n"
   ]
  },
  {
   "cell_type": "code",
   "execution_count": 35,
   "id": "bb7caf77-d9fb-41e8-9919-d2e2695b28b7",
   "metadata": {},
   "outputs": [
    {
     "data": {
      "text/plain": [
       "(112, 5)"
      ]
     },
     "execution_count": 35,
     "metadata": {},
     "output_type": "execute_result"
    }
   ],
   "source": [
    "train_data.shape"
   ]
  },
  {
   "cell_type": "code",
   "execution_count": 36,
   "id": "4144b4cd-51ba-495d-a932-a016e5590b9a",
   "metadata": {},
   "outputs": [
    {
     "data": {
      "text/html": [
       "<div>\n",
       "<style scoped>\n",
       "    .dataframe tbody tr th:only-of-type {\n",
       "        vertical-align: middle;\n",
       "    }\n",
       "\n",
       "    .dataframe tbody tr th {\n",
       "        vertical-align: top;\n",
       "    }\n",
       "\n",
       "    .dataframe thead th {\n",
       "        text-align: right;\n",
       "    }\n",
       "</style>\n",
       "<table border=\"1\" class=\"dataframe\">\n",
       "  <thead>\n",
       "    <tr style=\"text-align: right;\">\n",
       "      <th></th>\n",
       "      <th>id</th>\n",
       "      <th>age</th>\n",
       "      <th>sex</th>\n",
       "      <th>education</th>\n",
       "      <th>RMage</th>\n",
       "    </tr>\n",
       "  </thead>\n",
       "  <tbody>\n",
       "    <tr>\n",
       "      <th>count</th>\n",
       "      <td>112.000000</td>\n",
       "      <td>112.000000</td>\n",
       "      <td>112.000000</td>\n",
       "      <td>112.000000</td>\n",
       "      <td>112.000000</td>\n",
       "    </tr>\n",
       "    <tr>\n",
       "      <th>mean</th>\n",
       "      <td>56.500000</td>\n",
       "      <td>44.312500</td>\n",
       "      <td>0.482143</td>\n",
       "      <td>9.035714</td>\n",
       "      <td>40.034367</td>\n",
       "    </tr>\n",
       "    <tr>\n",
       "      <th>std</th>\n",
       "      <td>32.475632</td>\n",
       "      <td>22.642156</td>\n",
       "      <td>0.501927</td>\n",
       "      <td>4.909870</td>\n",
       "      <td>21.303530</td>\n",
       "    </tr>\n",
       "    <tr>\n",
       "      <th>min</th>\n",
       "      <td>1.000000</td>\n",
       "      <td>13.000000</td>\n",
       "      <td>0.000000</td>\n",
       "      <td>0.000000</td>\n",
       "      <td>10.713057</td>\n",
       "    </tr>\n",
       "    <tr>\n",
       "      <th>25%</th>\n",
       "      <td>28.750000</td>\n",
       "      <td>20.000000</td>\n",
       "      <td>0.000000</td>\n",
       "      <td>4.000000</td>\n",
       "      <td>20.018932</td>\n",
       "    </tr>\n",
       "    <tr>\n",
       "      <th>50%</th>\n",
       "      <td>56.500000</td>\n",
       "      <td>51.500000</td>\n",
       "      <td>0.000000</td>\n",
       "      <td>9.000000</td>\n",
       "      <td>40.531525</td>\n",
       "    </tr>\n",
       "    <tr>\n",
       "      <th>75%</th>\n",
       "      <td>84.250000</td>\n",
       "      <td>65.250000</td>\n",
       "      <td>1.000000</td>\n",
       "      <td>12.000000</td>\n",
       "      <td>58.331108</td>\n",
       "    </tr>\n",
       "    <tr>\n",
       "      <th>max</th>\n",
       "      <td>112.000000</td>\n",
       "      <td>79.000000</td>\n",
       "      <td>1.000000</td>\n",
       "      <td>20.000000</td>\n",
       "      <td>81.127975</td>\n",
       "    </tr>\n",
       "  </tbody>\n",
       "</table>\n",
       "</div>"
      ],
      "text/plain": [
       "               id         age         sex   education       RMage\n",
       "count  112.000000  112.000000  112.000000  112.000000  112.000000\n",
       "mean    56.500000   44.312500    0.482143    9.035714   40.034367\n",
       "std     32.475632   22.642156    0.501927    4.909870   21.303530\n",
       "min      1.000000   13.000000    0.000000    0.000000   10.713057\n",
       "25%     28.750000   20.000000    0.000000    4.000000   20.018932\n",
       "50%     56.500000   51.500000    0.000000    9.000000   40.531525\n",
       "75%     84.250000   65.250000    1.000000   12.000000   58.331108\n",
       "max    112.000000   79.000000    1.000000   20.000000   81.127975"
      ]
     },
     "execution_count": 36,
     "metadata": {},
     "output_type": "execute_result"
    }
   ],
   "source": [
    "train_data.describe()"
   ]
  },
  {
   "cell_type": "code",
   "execution_count": 37,
   "id": "16b9ddba-40e4-4b4e-a7f5-85dd8cca4a60",
   "metadata": {},
   "outputs": [
    {
     "name": "stdout",
     "output_type": "stream",
     "text": [
      "<class 'pandas.core.frame.DataFrame'>\n",
      "RangeIndex: 112 entries, 0 to 111\n",
      "Data columns (total 5 columns):\n",
      " #   Column     Non-Null Count  Dtype  \n",
      "---  ------     --------------  -----  \n",
      " 0   id         112 non-null    int64  \n",
      " 1   age        112 non-null    int64  \n",
      " 2   sex        112 non-null    int64  \n",
      " 3   education  112 non-null    int64  \n",
      " 4   RMage      112 non-null    float32\n",
      "dtypes: float32(1), int64(4)\n",
      "memory usage: 4.1 KB\n"
     ]
    }
   ],
   "source": [
    "train_data.info()"
   ]
  },
  {
   "cell_type": "code",
   "execution_count": 46,
   "id": "aacd9d26-8431-41f0-95dd-dd132e9dfcbc",
   "metadata": {},
   "outputs": [
    {
     "name": "stdout",
     "output_type": "stream",
     "text": [
      "Model: \"sequential_8\"\n",
      "_________________________________________________________________\n",
      "Layer (type)                 Output Shape              Param #   \n",
      "=================================================================\n",
      "dense_38 (Dense)             (None, 128)               512       \n",
      "_________________________________________________________________\n",
      "dense_39 (Dense)             (None, 256)               33024     \n",
      "_________________________________________________________________\n",
      "dense_40 (Dense)             (None, 256)               65792     \n",
      "_________________________________________________________________\n",
      "dense_41 (Dense)             (None, 64)                16448     \n",
      "_________________________________________________________________\n",
      "dropout_1 (Dropout)          (None, 64)                0         \n",
      "_________________________________________________________________\n",
      "dense_42 (Dense)             (None, 1)                 65        \n",
      "=================================================================\n",
      "Total params: 115,841\n",
      "Trainable params: 115,841\n",
      "Non-trainable params: 0\n",
      "_________________________________________________________________\n"
     ]
    }
   ],
   "source": [
    "from tensorflow.keras.models import Sequential\n",
    "from tensorflow.keras.layers import Flatten, Embedding, SimpleRNN, Dense, Dropout\n",
    "\n",
    "model2 = Sequential()\n",
    "model2.add(Dense(128, activation='relu', input_shape=(3,)))\n",
    "model2.add(Dense(256, activation='relu'))\n",
    "model2.add(Dense(256, activation='relu'))\n",
    "model2.add(Dense(64, activation='relu'))\n",
    "model2.add(Dropout(.2))\n",
    "model2.add(Dense(1, activation='relu'))\n",
    "\n",
    "model2.summary()"
   ]
  },
  {
   "cell_type": "code",
   "execution_count": 47,
   "id": "c6cedb01-dc0e-4cdd-a860-ab04996afd53",
   "metadata": {},
   "outputs": [
    {
     "data": {
      "text/plain": [
       "(112, 3)"
      ]
     },
     "execution_count": 47,
     "metadata": {},
     "output_type": "execute_result"
    }
   ],
   "source": [
    "model2.compile(optimizer='adam', loss='mean_squared_error', metrics='mean_absolute_percentage_error')\n",
    "\n",
    "\n",
    "x_train = train_data.drop(['age','id'],axis=1)\n",
    "y_train = train_data['age']\n",
    "\n",
    "x_train.shape\n",
    "\n"
   ]
  },
  {
   "cell_type": "code",
   "execution_count": 48,
   "id": "2917c3a5-635b-4e66-a16d-8a1f3adc50de",
   "metadata": {},
   "outputs": [
    {
     "data": {
      "image/png": "[encoded data removed]",
      "text/plain": [
       "<Figure size 864x576 with 2 Axes>"
      ]
     },
     "metadata": {
      "needs_background": "light"
     },
     "output_type": "display_data"
    },
    {
     "name": "stdout",
     "output_type": "stream",
     "text": [
      "Loss\n",
      "\ttraining         \t (min:   40.245, max: 1734.205, cur:   72.243)\n",
      "\tvalidation       \t (min:  227.113, max: 2883.910, cur:  228.858)\n",
      "mean_absolute_percentage_error\n",
      "\ttraining         \t (min:   13.830, max:   93.323, cur:   18.762)\n",
      "\tvalidation       \t (min:   17.902, max:   80.345, cur:   19.132)\n"
     ]
    }
   ],
   "source": [
    "history2 = model2.fit(x_train, y_train, epochs=100, batch_size=32,validation_split=0.2, callbacks=[PlotLossesCallback()])"
   ]
  },
  {
   "cell_type": "markdown",
   "id": "4d247fe3-2b23-4bff-b3d6-8340d567ff96",
   "metadata": {},
   "source": [
    "# Testar o modelo 2"
   ]
  },
  {
   "cell_type": "code",
   "execution_count": 49,
   "id": "85f2e1de-f514-490f-9ba8-feb70e8befac",
   "metadata": {},
   "outputs": [
    {
     "name": "stdout",
     "output_type": "stream",
     "text": [
      "[[20.244793]\n",
      " [16.757723]\n",
      " [19.146864]\n",
      " [23.422043]\n",
      " [17.506733]\n",
      " [18.89118 ]\n",
      " [44.527134]\n",
      " [45.024563]\n",
      " [39.406456]\n",
      " [55.109283]\n",
      " [62.818462]\n",
      " [67.505424]\n",
      " [78.48081 ]\n",
      " [64.21005 ]\n",
      " [17.61614 ]\n",
      " [21.588116]\n",
      " [14.744976]\n",
      " [22.487402]\n",
      " [20.110743]\n",
      " [21.6869  ]\n",
      " [51.042694]\n",
      " [45.62814 ]\n",
      " [57.32265 ]\n",
      " [79.519135]\n",
      " [55.81847 ]\n",
      " [45.98159 ]\n",
      " [58.98175 ]\n",
      " [56.954586]]\n"
     ]
    }
   ],
   "source": [
    "test_mat = tf.expand_dims(test_mat, axis=-1)\n",
    "result = model.predict(test_mat)\n",
    "print(result)"
   ]
  },
  {
   "cell_type": "code",
   "execution_count": 51,
   "id": "035c47eb-dae5-4f1d-b345-4319d01a4814",
   "metadata": {},
   "outputs": [],
   "source": [
    "result = pd.DataFrame(result,columns=['RMage'])\n",
    "test_data['RMage']=result"
   ]
  },
  {
   "cell_type": "code",
   "execution_count": 57,
   "id": "bf2a8094-3a48-45c3-8c68-068f8128470e",
   "metadata": {},
   "outputs": [
    {
     "name": "stdout",
     "output_type": "stream",
     "text": [
      "[[21.246698]\n",
      " [17.957378]\n",
      " [20.338135]\n",
      " [24.418358]\n",
      " [19.185783]\n",
      " [24.427912]\n",
      " [48.21403 ]\n",
      " [48.257175]\n",
      " [42.711994]\n",
      " [58.7587  ]\n",
      " [67.74194 ]\n",
      " [72.29205 ]\n",
      " [82.9723  ]\n",
      " [68.379745]\n",
      " [18.645088]\n",
      " [22.705067]\n",
      " [15.666217]\n",
      " [25.834135]\n",
      " [22.851017]\n",
      " [22.813595]\n",
      " [54.507107]\n",
      " [48.88821 ]\n",
      " [61.072758]\n",
      " [83.87239 ]\n",
      " [59.286198]\n",
      " [49.21576 ]\n",
      " [62.70108 ]\n",
      " [60.68795 ]]\n"
     ]
    }
   ],
   "source": [
    "resultados_finais = model2.predict(test_data.drop(['id'],axis=1))\n",
    "print(resultados_finais)"
   ]
  },
  {
   "cell_type": "markdown",
   "id": "59d4f300-5fdd-4b08-aea6-7619e771d6f4",
   "metadata": {},
   "source": [
    "# Prepare submission"
   ]
  },
  {
   "cell_type": "code",
   "execution_count": 59,
   "id": "0168e1c7-548f-4038-b665-ffb76e03aeca",
   "metadata": {},
   "outputs": [],
   "source": [
    "with open(\"submissao.csv\", \"w\") as sub:\n",
    "    # Writing data to a file\n",
    "    sub.write('id,age\\n')\n",
    "    for i in test_data['id']:\n",
    "        sub.write(str(i)+','+str(float(resultados_finais[i-1]))+'\\n')\n",
    "    "
   ]
  },
  {
   "cell_type": "code",
   "execution_count": null,
   "id": "c72083f7-234a-4df4-9601-c9804782c594",
   "metadata": {},
   "outputs": [],
   "source": []
  }
 ],
 "metadata": {
  "kernelspec": {
   "display_name": "Python 3 (ipykernel)",
   "language": "python",
   "name": "python3"
  },
  "language_info": {
   "codemirror_mode": {
    "name": "ipython",
    "version": 3
   },
   "file_extension": ".py",
   "mimetype": "text/x-python",
   "name": "python",
   "nbconvert_exporter": "python",
   "pygments_lexer": "ipython3",
   "version": "3.8.13"
  }
 },
 "nbformat": 4,
 "nbformat_minor": 5
}
