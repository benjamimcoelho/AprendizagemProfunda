{
 "cells": [
  {
   "cell_type": "markdown",
   "id": "5d5a74c2-98df-44eb-baab-ad735624806e",
   "metadata": {
    "tags": []
   },
   "source": [
    "# Importar dados"
   ]
  },
  {
   "cell_type": "code",
   "execution_count": 1,
   "id": "37ca0b3e-b74f-49e4-92e0-592e1e7ea030",
   "metadata": {},
   "outputs": [],
   "source": [
    "import pandas as pd\n",
    "train_data = pd.read_csv(r'../data/train.csv')\n",
    "test_data = pd.read_csv(r'../data/test.csv')"
   ]
  },
  {
   "cell_type": "code",
   "execution_count": 2,
   "id": "d82637b5-9950-4e13-b090-70767634d616",
   "metadata": {},
   "outputs": [
    {
     "data": {
      "text/plain": [
       "(112, 4)"
      ]
     },
     "execution_count": 2,
     "metadata": {},
     "output_type": "execute_result"
    }
   ],
   "source": [
    "train_data.shape"
   ]
  },
  {
   "cell_type": "markdown",
   "id": "db1526bb-5d1c-419b-87f2-e79d5a9d6cba",
   "metadata": {},
   "source": [
    "# Analisar Dados"
   ]
  },
  {
   "cell_type": "code",
   "execution_count": 3,
   "id": "de46514e-2f62-4089-86c6-cc3e1406e428",
   "metadata": {},
   "outputs": [
    {
     "name": "stdout",
     "output_type": "stream",
     "text": [
      "<class 'pandas.core.frame.DataFrame'>\n",
      "RangeIndex: 112 entries, 0 to 111\n",
      "Data columns (total 4 columns):\n",
      " #   Column     Non-Null Count  Dtype\n",
      "---  ------     --------------  -----\n",
      " 0   id         112 non-null    int64\n",
      " 1   age        112 non-null    int64\n",
      " 2   sex        112 non-null    int64\n",
      " 3   education  112 non-null    int64\n",
      "dtypes: int64(4)\n",
      "memory usage: 3.6 KB\n"
     ]
    }
   ],
   "source": [
    "train_data.info()"
   ]
  },
  {
   "cell_type": "code",
   "execution_count": 4,
   "id": "7f40468f-e1d9-4e0a-bf4c-abd05da6f2ef",
   "metadata": {},
   "outputs": [
    {
     "data": {
      "text/html": [
       "<div>\n",
       "<style scoped>\n",
       "    .dataframe tbody tr th:only-of-type {\n",
       "        vertical-align: middle;\n",
       "    }\n",
       "\n",
       "    .dataframe tbody tr th {\n",
       "        vertical-align: top;\n",
       "    }\n",
       "\n",
       "    .dataframe thead th {\n",
       "        text-align: right;\n",
       "    }\n",
       "</style>\n",
       "<table border=\"1\" class=\"dataframe\">\n",
       "  <thead>\n",
       "    <tr style=\"text-align: right;\">\n",
       "      <th></th>\n",
       "      <th>id</th>\n",
       "      <th>age</th>\n",
       "      <th>sex</th>\n",
       "      <th>education</th>\n",
       "    </tr>\n",
       "  </thead>\n",
       "  <tbody>\n",
       "    <tr>\n",
       "      <th>count</th>\n",
       "      <td>112.000000</td>\n",
       "      <td>112.000000</td>\n",
       "      <td>112.000000</td>\n",
       "      <td>112.000000</td>\n",
       "    </tr>\n",
       "    <tr>\n",
       "      <th>mean</th>\n",
       "      <td>56.500000</td>\n",
       "      <td>44.312500</td>\n",
       "      <td>0.482143</td>\n",
       "      <td>9.035714</td>\n",
       "    </tr>\n",
       "    <tr>\n",
       "      <th>std</th>\n",
       "      <td>32.475632</td>\n",
       "      <td>22.642156</td>\n",
       "      <td>0.501927</td>\n",
       "      <td>4.909870</td>\n",
       "    </tr>\n",
       "    <tr>\n",
       "      <th>min</th>\n",
       "      <td>1.000000</td>\n",
       "      <td>13.000000</td>\n",
       "      <td>0.000000</td>\n",
       "      <td>0.000000</td>\n",
       "    </tr>\n",
       "    <tr>\n",
       "      <th>25%</th>\n",
       "      <td>28.750000</td>\n",
       "      <td>20.000000</td>\n",
       "      <td>0.000000</td>\n",
       "      <td>4.000000</td>\n",
       "    </tr>\n",
       "    <tr>\n",
       "      <th>50%</th>\n",
       "      <td>56.500000</td>\n",
       "      <td>51.500000</td>\n",
       "      <td>0.000000</td>\n",
       "      <td>9.000000</td>\n",
       "    </tr>\n",
       "    <tr>\n",
       "      <th>75%</th>\n",
       "      <td>84.250000</td>\n",
       "      <td>65.250000</td>\n",
       "      <td>1.000000</td>\n",
       "      <td>12.000000</td>\n",
       "    </tr>\n",
       "    <tr>\n",
       "      <th>max</th>\n",
       "      <td>112.000000</td>\n",
       "      <td>79.000000</td>\n",
       "      <td>1.000000</td>\n",
       "      <td>20.000000</td>\n",
       "    </tr>\n",
       "  </tbody>\n",
       "</table>\n",
       "</div>"
      ],
      "text/plain": [
       "               id         age         sex   education\n",
       "count  112.000000  112.000000  112.000000  112.000000\n",
       "mean    56.500000   44.312500    0.482143    9.035714\n",
       "std     32.475632   22.642156    0.501927    4.909870\n",
       "min      1.000000   13.000000    0.000000    0.000000\n",
       "25%     28.750000   20.000000    0.000000    4.000000\n",
       "50%     56.500000   51.500000    0.000000    9.000000\n",
       "75%     84.250000   65.250000    1.000000   12.000000\n",
       "max    112.000000   79.000000    1.000000   20.000000"
      ]
     },
     "execution_count": 4,
     "metadata": {},
     "output_type": "execute_result"
    }
   ],
   "source": [
    "train_data.describe()"
   ]
  },
  {
   "cell_type": "code",
   "execution_count": 5,
   "id": "6b65c6e1-7e13-43e6-9406-992059fd156c",
   "metadata": {},
   "outputs": [
    {
     "data": {
      "text/html": [
       "<div>\n",
       "<style scoped>\n",
       "    .dataframe tbody tr th:only-of-type {\n",
       "        vertical-align: middle;\n",
       "    }\n",
       "\n",
       "    .dataframe tbody tr th {\n",
       "        vertical-align: top;\n",
       "    }\n",
       "\n",
       "    .dataframe thead th {\n",
       "        text-align: right;\n",
       "    }\n",
       "</style>\n",
       "<table border=\"1\" class=\"dataframe\">\n",
       "  <thead>\n",
       "    <tr style=\"text-align: right;\">\n",
       "      <th></th>\n",
       "      <th>id</th>\n",
       "      <th>age</th>\n",
       "      <th>sex</th>\n",
       "      <th>education</th>\n",
       "    </tr>\n",
       "  </thead>\n",
       "  <tbody>\n",
       "    <tr>\n",
       "      <th>0</th>\n",
       "      <td>1</td>\n",
       "      <td>13</td>\n",
       "      <td>1</td>\n",
       "      <td>7</td>\n",
       "    </tr>\n",
       "    <tr>\n",
       "      <th>1</th>\n",
       "      <td>2</td>\n",
       "      <td>14</td>\n",
       "      <td>0</td>\n",
       "      <td>8</td>\n",
       "    </tr>\n",
       "    <tr>\n",
       "      <th>2</th>\n",
       "      <td>3</td>\n",
       "      <td>15</td>\n",
       "      <td>1</td>\n",
       "      <td>9</td>\n",
       "    </tr>\n",
       "    <tr>\n",
       "      <th>3</th>\n",
       "      <td>4</td>\n",
       "      <td>15</td>\n",
       "      <td>1</td>\n",
       "      <td>9</td>\n",
       "    </tr>\n",
       "    <tr>\n",
       "      <th>4</th>\n",
       "      <td>5</td>\n",
       "      <td>15</td>\n",
       "      <td>1</td>\n",
       "      <td>9</td>\n",
       "    </tr>\n",
       "  </tbody>\n",
       "</table>\n",
       "</div>"
      ],
      "text/plain": [
       "   id  age  sex  education\n",
       "0   1   13    1          7\n",
       "1   2   14    0          8\n",
       "2   3   15    1          9\n",
       "3   4   15    1          9\n",
       "4   5   15    1          9"
      ]
     },
     "execution_count": 5,
     "metadata": {},
     "output_type": "execute_result"
    }
   ],
   "source": [
    "#fig = plt.figure(figsize = (20,5))\n",
    "#ax = fig.gca()\n",
    "#train_data['education'].hist(ax = ax)\n",
    "train_data.head()"
   ]
  },
  {
   "cell_type": "code",
   "execution_count": 6,
   "id": "033ad93e-e4c8-483a-874e-6e76f00a42fc",
   "metadata": {},
   "outputs": [
    {
     "data": {
      "image/png": "[encoded data removed]",
      "text/plain": [
       "<Figure size 432x288 with 1 Axes>"
      ]
     },
     "metadata": {
      "needs_background": "light"
     },
     "output_type": "display_data"
    }
   ],
   "source": [
    "#train_data.isna().any()\n",
    "\n",
    "import seaborn as sns\n",
    "#sns.histplot(train_data['age'], kde='True')\n",
    "#sns.histplot(train_data['sex'], kde='True')\n",
    "sns.histplot(train_data['education'], kde='True')\n",
    "\n",
    "#sns.boxplot(x=train_data['age'])\n",
    "#sns.boxplot(x=train_data['sex'])\n",
    "#sns.boxplot(x=train_data['education'])\n",
    "\n",
    "import matplotlib.pyplot as plt\n",
    "#corr_matrix = train_data.corr()\n",
    "#f, ax = plt.subplots(figsize=(8,6))\n",
    "#sns.heatmap(corr_matrix, vmin=1, vmax=1, square=True, annot=True)"
   ]
  },
  {
   "cell_type": "markdown",
   "id": "c16b7daf-7990-4dbd-86e8-5429dad80c9e",
   "metadata": {
    "tags": []
   },
   "source": [
    "# Visualisar os dados"
   ]
  },
  {
   "cell_type": "code",
   "execution_count": 7,
   "id": "5a2d6a25-6cca-4bf9-990e-83cd09d4d486",
   "metadata": {},
   "outputs": [
    {
     "name": "stdout",
     "output_type": "stream",
     "text": [
      "[[[0.         0.         0.         ... 0.         0.         0.        ]\n",
      "  [0.         0.         0.         ... 0.         0.         0.        ]\n",
      "  [0.13152513 0.11770353 0.15580596 ... 0.11608478 0.15665442 0.11458643]\n",
      "  ...\n",
      "  [0.         0.         0.         ... 0.         0.         0.        ]\n",
      "  [0.         0.         0.         ... 0.02631835 0.01242944 0.        ]\n",
      "  [0.         0.         0.         ... 0.         0.         0.        ]]\n",
      "\n",
      " [[0.         0.         0.         ... 0.         0.         0.        ]\n",
      "  [0.         0.         0.         ... 0.         0.         0.        ]\n",
      "  [0.         0.         0.         ... 0.         0.         0.        ]\n",
      "  ...\n",
      "  [0.         0.         0.         ... 0.         0.         0.        ]\n",
      "  [0.         0.         0.         ... 0.         0.         0.        ]\n",
      "  [0.         0.         0.         ... 0.01770987 0.         0.        ]]\n",
      "\n",
      " [[0.13152513 0.11770353 0.15580596 ... 0.11608478 0.15665442 0.11458643]\n",
      "  [0.         0.         0.         ... 0.         0.         0.        ]\n",
      "  [0.         0.         0.         ... 0.         0.         0.        ]\n",
      "  ...\n",
      "  [0.         0.         0.         ... 0.         0.         0.        ]\n",
      "  [0.         0.         0.         ... 0.         0.         0.        ]\n",
      "  [0.         0.         0.         ... 0.         0.         0.        ]]\n",
      "\n",
      " ...\n",
      "\n",
      " [[0.         0.         0.         ... 0.         0.         0.        ]\n",
      "  [0.         0.         0.         ... 0.         0.         0.        ]\n",
      "  [0.         0.         0.         ... 0.         0.         0.        ]\n",
      "  ...\n",
      "  [0.         0.         0.         ... 0.         0.         0.        ]\n",
      "  [0.         0.         0.         ... 0.         0.         0.        ]\n",
      "  [0.28060623 0.20747819 0.24647168 ... 0.24678357 0.2162594  0.27481224]]\n",
      "\n",
      " [[0.         0.         0.         ... 0.02631835 0.01242944 0.        ]\n",
      "  [0.         0.         0.         ... 0.         0.         0.        ]\n",
      "  [0.         0.         0.         ... 0.         0.         0.        ]\n",
      "  ...\n",
      "  [0.         0.         0.         ... 0.         0.         0.        ]\n",
      "  [0.         0.         0.         ... 0.         0.         0.        ]\n",
      "  [0.         0.         0.         ... 0.         0.         0.        ]]\n",
      "\n",
      " [[0.         0.         0.         ... 0.         0.         0.        ]\n",
      "  [0.         0.         0.         ... 0.01770987 0.         0.        ]\n",
      "  [0.         0.         0.         ... 0.         0.         0.        ]\n",
      "  ...\n",
      "  [0.28060623 0.20747819 0.24647168 ... 0.24678357 0.2162594  0.27481224]\n",
      "  [0.         0.         0.         ... 0.         0.         0.        ]\n",
      "  [0.         0.         0.         ... 0.         0.         0.        ]]]\n"
     ]
    }
   ],
   "source": [
    "import numpy as np\n",
    "import scipy.io\n",
    "\n",
    "mat = scipy.io.loadmat('../data/train_data.mat')\n",
    "\n",
    "X = mat[\"train_data\"]\n",
    "print(X)"
   ]
  },
  {
   "cell_type": "code",
   "execution_count": 8,
   "id": "18f116b1-a110-4384-9e2b-1db0dbcdc7f1",
   "metadata": {},
   "outputs": [
    {
     "data": {
      "image/png": "[encoded data removed]",
      "text/plain": [
       "<Figure size 432x288 with 1 Axes>"
      ]
     },
     "metadata": {
      "needs_background": "light"
     },
     "output_type": "display_data"
    }
   ],
   "source": [
    "#todos\n",
    "import matplotlib.pyplot as plt\n",
    "from mpl_toolkits.mplot3d import Axes3D\n",
    "fig = plt.figure()\n",
    "ax = fig.add_subplot(111, projection='3d')\n",
    "\n",
    "z,x,y = X.nonzero()\n",
    "            \n",
    "ax.scatter(x, y, -z, zdir='z', c= 'red')\n",
    "plt.show()"
   ]
  },
  {
   "cell_type": "code",
   "execution_count": 9,
   "id": "f3b2181f-0a97-4f8e-9a20-b54caab0b1c2",
   "metadata": {},
   "outputs": [
    {
     "data": {
      "text/plain": [
       "[<matplotlib.lines.Line2D at 0x24e4ad11940>]"
      ]
     },
     "execution_count": 9,
     "metadata": {},
     "output_type": "execute_result"
    },
    {
     "data": {
      "image/png": "[encoded data removed]",
      "text/plain": [
       "<Figure size 432x288 with 1 Axes>"
      ]
     },
     "metadata": {
      "needs_background": "light"
     },
     "output_type": "display_data"
    }
   ],
   "source": [
    "#Exemplo 1 pessoa\n",
    "store = []\n",
    "for i in range(90):\n",
    "    for j in range (90):\n",
    "        store.append(X[i][j][15])\n",
    "        #print(X[i][j][0])\n",
    "        \n",
    "plt.plot(store)"
   ]
  },
  {
   "cell_type": "markdown",
   "id": "394781bb-df70-431a-99c5-09bf1fbd09ac",
   "metadata": {
    "tags": []
   },
   "source": [
    "# Importar matrizes de conectividade"
   ]
  },
  {
   "cell_type": "code",
   "execution_count": 10,
   "id": "b6acd308-8b57-4227-ac68-44148835cbb0",
   "metadata": {},
   "outputs": [
    {
     "name": "stdout",
     "output_type": "stream",
     "text": [
      "dict_keys(['__header__', '__version__', '__globals__', 'train_data'])\n",
      "dict_keys(['__header__', '__version__', '__globals__', 'test_data'])\n",
      "(112, 90, 90)\n",
      "(28, 90, 90)\n"
     ]
    }
   ],
   "source": [
    "def get_data_from_mat(train_file,test_file):\n",
    "    train_mat = scipy.io.loadmat(train_file) \n",
    "    test_mat = scipy.io.loadmat(test_file) \n",
    "    print(train_mat.keys())\n",
    "    print(test_mat.keys())\n",
    "    train_np = np.array(train_mat['train_data']).transpose(2,0,1)\n",
    "    test_np = np.array(test_mat['test_data']).transpose(2,0,1)\n",
    "    print(train_np.shape)\n",
    "    print(test_np.shape)\n",
    "    return  train_np, test_np\n",
    "\n",
    "\n",
    "train_mat, test_mat = get_data_from_mat('../data/train_data.mat','../data/test_data.mat')"
   ]
  },
  {
   "cell_type": "markdown",
   "id": "ddc578a0-5cf9-4fa8-bb41-1f30f13ed645",
   "metadata": {},
   "source": [
    "# Treinar o modelo 1 - Utilizar os dados das matrizes e apenas as labels do csv\n"
   ]
  },
  {
   "cell_type": "code",
   "execution_count": 11,
   "id": "30f88a22-a07e-4e6d-957d-2c978564f782",
   "metadata": {},
   "outputs": [
    {
     "name": "stdout",
     "output_type": "stream",
     "text": [
      "[name: \"/device:CPU:0\"\n",
      "device_type: \"CPU\"\n",
      "memory_limit: 268435456\n",
      "locality {\n",
      "}\n",
      "incarnation: 281688120581030627\n",
      ", name: \"/device:GPU:0\"\n",
      "device_type: \"GPU\"\n",
      "memory_limit: 1175656448\n",
      "locality {\n",
      "  bus_id: 1\n",
      "  links {\n",
      "  }\n",
      "}\n",
      "incarnation: 10644373853288662154\n",
      "physical_device_desc: \"device: 0, name: NVIDIA GeForce RTX 2060, pci bus id: 0000:01:00.0, compute capability: 7.5\"\n",
      "]\n"
     ]
    }
   ],
   "source": [
    "import tensorflow as tf\n",
    "import tensorflow.keras.backend as K\n",
    "from tensorflow.python.client import device_lib\n",
    "print(device_lib.list_local_devices())"
   ]
  },
  {
   "cell_type": "code",
   "execution_count": 12,
   "id": "8bb87ab7-237b-4dd8-b11f-af4d97f77e25",
   "metadata": {},
   "outputs": [
    {
     "name": "stdout",
     "output_type": "stream",
     "text": [
      "A acertar o backend e libertar memória da grafica\n",
      "[PhysicalDevice(name='/physical_device:GPU:0', device_type='GPU')]\n"
     ]
    }
   ],
   "source": [
    "#para melhor gestão memória GPU por parte do tensorflow\n",
    "\n",
    "def set_keras_backend(backend):\n",
    "    print(\"A acertar o backend e libertar memória da grafica\")\n",
    "    if K.backend() != backend:\n",
    "        os.environ['KERAS_BACKEND'] = backend\n",
    "        importlib.reload(K)\n",
    "        assert K.backend() == backend\n",
    "    if backend == \"tensorflow\":\n",
    "        # Allow memory growth for the GPU\n",
    "        physical_devices = tf.config.experimental.list_physical_devices('GPU')\n",
    "        print(physical_devices)\n",
    "        tf.config.experimental.set_memory_growth(physical_devices[0], True)  \n",
    "  \n",
    "  \n",
    "set_keras_backend(\"tensorflow\")"
   ]
  },
  {
   "cell_type": "code",
   "execution_count": 13,
   "id": "7966f44b-04b3-4d5f-949e-56475f4f2b7e",
   "metadata": {},
   "outputs": [
    {
     "name": "stdout",
     "output_type": "stream",
     "text": [
      "Model: \"model\"\n",
      "__________________________________________________________________________________________________\n",
      "Layer (type)                    Output Shape         Param #     Connected to                     \n",
      "==================================================================================================\n",
      "input_1 (InputLayer)            [(None, 90, 90)]     0                                            \n",
      "__________________________________________________________________________________________________\n",
      "conv1d (Conv1D)                 (None, 88, 128)      34688       input_1[0][0]                    \n",
      "__________________________________________________________________________________________________\n",
      "activation (Activation)         (None, 88, 128)      0           conv1d[0][0]                     \n",
      "__________________________________________________________________________________________________\n",
      "batch_normalization (BatchNorma (None, 88, 128)      512         activation[0][0]                 \n",
      "__________________________________________________________________________________________________\n",
      "max_pooling1d (MaxPooling1D)    (None, 44, 128)      0           batch_normalization[0][0]        \n",
      "__________________________________________________________________________________________________\n",
      "conv1d_1 (Conv1D)               (None, 42, 256)      98560       max_pooling1d[0][0]              \n",
      "__________________________________________________________________________________________________\n",
      "activation_1 (Activation)       (None, 42, 256)      0           conv1d_1[0][0]                   \n",
      "__________________________________________________________________________________________________\n",
      "batch_normalization_1 (BatchNor (None, 42, 256)      1024        activation_1[0][0]               \n",
      "__________________________________________________________________________________________________\n",
      "max_pooling1d_1 (MaxPooling1D)  (None, 21, 256)      0           batch_normalization_1[0][0]      \n",
      "__________________________________________________________________________________________________\n",
      "conv1d_2 (Conv1D)               (None, 19, 256)      196864      max_pooling1d_1[0][0]            \n",
      "__________________________________________________________________________________________________\n",
      "activation_2 (Activation)       (None, 19, 256)      0           conv1d_2[0][0]                   \n",
      "__________________________________________________________________________________________________\n",
      "batch_normalization_2 (BatchNor (None, 19, 256)      1024        activation_2[0][0]               \n",
      "__________________________________________________________________________________________________\n",
      "input_2 (InputLayer)            [(None, 2)]          0                                            \n",
      "__________________________________________________________________________________________________\n",
      "flatten_1 (Flatten)             (None, 4864)         0           batch_normalization_2[0][0]      \n",
      "__________________________________________________________________________________________________\n",
      "flatten (Flatten)               (None, 2)            0           input_2[0][0]                    \n",
      "__________________________________________________________________________________________________\n",
      "concatenate (Concatenate)       (None, 4866)         0           flatten_1[0][0]                  \n",
      "                                                                 flatten[0][0]                    \n",
      "__________________________________________________________________________________________________\n",
      "dense (Dense)                   (None, 256)          1245952     concatenate[0][0]                \n",
      "__________________________________________________________________________________________________\n",
      "dense_1 (Dense)                 (None, 256)          65792       dense[0][0]                      \n",
      "__________________________________________________________________________________________________\n",
      "dense_2 (Dense)                 (None, 100)          25700       dense_1[0][0]                    \n",
      "__________________________________________________________________________________________________\n",
      "dense_3 (Dense)                 (None, 1)            101         dense_2[0][0]                    \n",
      "==================================================================================================\n",
      "Total params: 1,670,217\n",
      "Trainable params: 1,668,937\n",
      "Non-trainable params: 1,280\n",
      "__________________________________________________________________________________________________\n"
     ]
    }
   ],
   "source": [
    "from tensorflow import keras\n",
    "from tensorflow.keras.models import Sequential, Model\n",
    "from tensorflow.keras.layers import Conv1D,MaxPooling1D,Flatten, Dense, Embedding, BatchNormalization,Activation,Dropout, Input, concatenate, LSTM, SimpleRNN\n",
    "from livelossplot.inputs.tf_keras import PlotLossesCallback\n",
    "from tensorflow.keras.initializers import RandomNormal, Constant\n",
    "\n",
    "y_train = train_data['age']\n",
    "x_train = train_mat\n",
    "x_train2 = train_data.drop(['age','id'],axis=1)\n",
    "\n",
    "\n",
    "\n",
    "inputs = Input(shape=(90,90))\n",
    "\n",
    "conv1 = Conv1D(128, 3)(inputs)\n",
    "act1 = Activation('relu') (conv1)\n",
    "norm1 = BatchNormalization(momentum=0.95)(act1)\n",
    "pool1 = MaxPooling1D(2) (norm1)\n",
    "\n",
    "conv2 = Conv1D(256, 3)(pool1)\n",
    "act2 = Activation('relu') (conv2)\n",
    "norm2 = BatchNormalization(momentum=0.95)(act2)\n",
    "pool2 = MaxPooling1D(2) (norm2)\n",
    "\n",
    "conv3 = Conv1D(256, 3)(pool2)\n",
    "act3 = Activation('relu') (conv3)\n",
    "norm3 = BatchNormalization(momentum=0.95)(act3)\n",
    "\n",
    "\n",
    "inputs2 = Input(shape = (2))\n",
    "\n",
    "flat2 = Flatten()(inputs2)\n",
    "\n",
    "\n",
    "flat = Flatten()(norm3)\n",
    "\n",
    "concat = concatenate([flat, flat2])\n",
    "\n",
    "dense1 = Dense(256, activation='relu')(concat)\n",
    "dense2 = Dense(256, activation='relu') (dense1)\n",
    "dense3 = Dense(100, activation='relu') (dense2)\n",
    "output = Dense(1, activation='relu') (dense3)\n",
    "\n",
    "model = Model([inputs,inputs2], output)\n",
    "\n",
    "model.summary()"
   ]
  },
  {
   "cell_type": "code",
   "execution_count": 14,
   "id": "99c6211d-efcb-461d-b7e8-834ded298ad6",
   "metadata": {},
   "outputs": [
    {
     "data": {
      "image/png": "[encoded data removed]",
      "text/plain": [
       "<Figure size 864x576 with 2 Axes>"
      ]
     },
     "metadata": {
      "needs_background": "light"
     },
     "output_type": "display_data"
    },
    {
     "name": "stdout",
     "output_type": "stream",
     "text": [
      "Loss\n",
      "\ttraining         \t (min:    0.682, max:  911.174, cur:    7.159)\n",
      "\tvalidation       \t (min:   27.491, max: 2384.435, cur:   51.643)\n",
      "mean_absolute_error\n",
      "\ttraining         \t (min:    0.648, max:   23.328, cur:    2.084)\n",
      "\tvalidation       \t (min:    4.023, max:   43.747, cur:    5.774)\n"
     ]
    }
   ],
   "source": [
    "from sklearn.model_selection import train_test_split, LeaveOneOut\n",
    "\n",
    "\n",
    "\n",
    "x_train, x_test, x_train2, x_test2, y_train, y_test  = train_test_split(x_train,x_train2,y_train, test_size=0.2, random_state=25)\n",
    "\n",
    "\n",
    "model.compile(optimizer='adam', loss='mean_squared_error', metrics='mean_absolute_error')\n",
    "\n",
    "\n",
    "\n",
    "\n",
    "history = model.fit([x_train,x_train2], y_train, epochs=200, batch_size=16, validation_data=([x_test,x_test2],y_test), callbacks=[PlotLossesCallback()])"
   ]
  },
  {
   "cell_type": "markdown",
   "id": "b5e4c508-7f6e-41c5-b320-6e3bcdfe4369",
   "metadata": {},
   "source": [
    "# Usar o modelo"
   ]
  },
  {
   "cell_type": "code",
   "execution_count": null,
   "id": "045092cc-2d60-41fd-8768-80bc77b7fae4",
   "metadata": {},
   "outputs": [],
   "source": []
  },
  {
   "cell_type": "code",
   "execution_count": 15,
   "id": "cccb6d27-c273-4c43-8ba1-b16290d0a63e",
   "metadata": {},
   "outputs": [
    {
     "name": "stdout",
     "output_type": "stream",
     "text": [
      "[[28.681496]\n",
      " [28.933815]\n",
      " [20.13861 ]\n",
      " [24.025723]\n",
      " [26.697315]\n",
      " [30.019579]\n",
      " [54.01317 ]\n",
      " [49.928665]\n",
      " [61.551712]\n",
      " [66.15252 ]\n",
      " [68.686005]\n",
      " [76.84625 ]\n",
      " [69.78282 ]\n",
      " [71.359146]\n",
      " [19.307436]\n",
      " [23.175629]\n",
      " [22.647623]\n",
      " [34.224777]\n",
      " [23.298141]\n",
      " [28.396935]\n",
      " [56.98621 ]\n",
      " [69.03712 ]\n",
      " [55.552666]\n",
      " [73.18613 ]\n",
      " [64.83301 ]\n",
      " [65.71972 ]\n",
      " [64.22615 ]\n",
      " [64.32977 ]]\n"
     ]
    }
   ],
   "source": [
    "resultados_finais = model.predict([test_mat,test_data.drop(['id'],axis=1)])\n",
    "print(resultados_finais)"
   ]
  },
  {
   "cell_type": "markdown",
   "id": "1d249142-3747-42ef-9c48-00672fbb6f0c",
   "metadata": {},
   "source": [
    "# Prepare submission"
   ]
  },
  {
   "cell_type": "code",
   "execution_count": 17,
   "id": "f571f8c6-daa2-48d9-8eae-4556ee72965a",
   "metadata": {},
   "outputs": [],
   "source": [
    "with open(\"submissao.csv\", \"w\") as sub:\n",
    "    # Writing data to a file\n",
    "    sub.write('id,age\\n')\n",
    "    for i in test_data['id']:\n",
    "        sub.write(str(i)+','+str(float(resultados_finais[i-1]))+'\\n')\n",
    "    "
   ]
  },
  {
   "cell_type": "code",
   "execution_count": null,
   "id": "81c5c101-473d-45e8-adfa-1e57ed25b32f",
   "metadata": {},
   "outputs": [],
   "source": []
  }
 ],
 "metadata": {
  "kernelspec": {
   "display_name": "Python 3 (ipykernel)",
   "language": "python",
   "name": "python3"
  },
  "language_info": {
   "codemirror_mode": {
    "name": "ipython",
    "version": 3
   },
   "file_extension": ".py",
   "mimetype": "text/x-python",
   "name": "python",
   "nbconvert_exporter": "python",
   "pygments_lexer": "ipython3",
   "version": "3.8.13"
  }
 },
 "nbformat": 4,
 "nbformat_minor": 5
}
